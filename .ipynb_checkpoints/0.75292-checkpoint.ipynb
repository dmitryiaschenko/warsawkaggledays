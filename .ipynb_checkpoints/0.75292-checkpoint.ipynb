{
 "cells": [
  {
   "cell_type": "code",
   "execution_count": 1,
   "metadata": {
    "collapsed": true
   },
   "outputs": [],
   "source": [
    "import pandas as pd\n",
    "import seaborn as sns\n",
    "%matplotlib inline\n",
    "import matplotlib.pyplot as plt\n",
    "from sklearn import preprocessing\n",
    "import numpy as np\n",
    "from sklearn.preprocessing import LabelEncoder\n",
    "pd.options.display.float_format = '{:.8f}'.format\n",
    "import os, sys\n",
    "from fastai.imports import *\n",
    "from fastai.structured import *\n",
    "from sklearn.feature_extraction.text import CountVectorizer, TfidfVectorizer\n",
    "from sklearn.preprocessing import LabelBinarizer\n",
    "from scipy.sparse import csr_matrix, hstack\n",
    "from sklearn.model_selection import train_test_split\n",
    "import lightgbm as lgb\n",
    "from sklearn.base import BaseEstimator, TransformerMixin\n",
    "from sklearn.metrics import mean_squared_error"
   ]
  },
  {
   "cell_type": "code",
   "execution_count": 2,
   "metadata": {
    "collapsed": true
   },
   "outputs": [],
   "source": [
    "test = pd.read_csv('test.csv', error_bad_lines=False, sep='\\t')\n",
    "train = pd.read_csv('train.csv', error_bad_lines=False, sep='\\t')"
   ]
  },
  {
   "cell_type": "code",
   "execution_count": 3,
   "metadata": {
    "collapsed": true
   },
   "outputs": [],
   "source": [
    "y = train.answer_score"
   ]
  },
  {
   "cell_type": "code",
   "execution_count": 4,
   "metadata": {
    "collapsed": true
   },
   "outputs": [],
   "source": [
    "train = train.drop(['answer_score'], axis=1)"
   ]
  },
  {
   "cell_type": "code",
   "execution_count": 5,
   "metadata": {},
   "outputs": [
    {
     "data": {
      "text/plain": [
       "((852885, 8), (663082, 8))"
      ]
     },
     "execution_count": 5,
     "metadata": {},
     "output_type": "execute_result"
    }
   ],
   "source": [
    "train.shape, test.shape"
   ]
  },
  {
   "cell_type": "code",
   "execution_count": 6,
   "metadata": {
    "collapsed": true
   },
   "outputs": [],
   "source": [
    "train['question_utc_transofrmed'] = pd.to_datetime(train['question_utc'],unit='s')\n",
    "train['answer_utc_transofrmed'] = pd.to_datetime(train['answer_utc'],unit='s')\n",
    "test['question_utc_transofrmed'] = pd.to_datetime(test['question_utc'],unit='s')\n",
    "test['answer_utc_transofrmed'] = pd.to_datetime(test['answer_utc'],unit='s')"
   ]
  },
  {
   "cell_type": "code",
   "execution_count": 7,
   "metadata": {
    "collapsed": true
   },
   "outputs": [],
   "source": [
    "def add_dateparts(df, fldname, drop=True):\n",
    "    fld = df[fldname]\n",
    "    if not np.issubdtype(fld.dtype, np.datetime64):\n",
    "        df[fldname] = fld = pd.to_datetime(fld, infer_datetime_format=True)\n",
    "    targ_pre = re.sub('[Dd]ate$', '', fldname)\n",
    "    for n in ('Week', 'Day', 'Dayofweek', 'Dayofyear'):\n",
    "        df[targ_pre+n] = getattr(fld.dt,n.lower())\n",
    "    if drop: df.drop(fldname, axis=1, inplace=True)"
   ]
  },
  {
   "cell_type": "code",
   "execution_count": 8,
   "metadata": {
    "collapsed": true
   },
   "outputs": [],
   "source": [
    "add_dateparts(train, 'answer_utc_transofrmed')\n",
    "add_dateparts(train, 'question_utc_transofrmed')\n",
    "add_dateparts(test, 'answer_utc_transofrmed')\n",
    "add_dateparts(test, 'question_utc_transofrmed')"
   ]
  },
  {
   "cell_type": "code",
   "execution_count": 9,
   "metadata": {
    "collapsed": true
   },
   "outputs": [],
   "source": [
    "train['answ_quest_dif'] = train['answer_utc'] - train['question_utc']\n",
    "test['answ_quest_dif'] = test['answer_utc'] - test['question_utc']"
   ]
  },
  {
   "cell_type": "code",
   "execution_count": 10,
   "metadata": {
    "collapsed": true
   },
   "outputs": [],
   "source": [
    "class FeatureEngineer(BaseEstimator, TransformerMixin):\n",
    "    def __init__(self):\n",
    "        super(FeatureEngineer, self).__init__()\n",
    "\n",
    "    def fit(self, data, *args, **kwargs):\n",
    "        return self\n",
    "\n",
    "    def transform(self, data, *args, **kwargs):\n",
    "        data['log_len'] = np.log(data[\"answer_text\"].apply(len))\n",
    "        \n",
    "        data[\"question_mark_count\"] = [s.count(\"?\") for s in data[\"answer_text\"].values]\n",
    "        data[\"question_mark_present\"] = (data[\"question_mark_count\"] > 0).astype(int)\n",
    "        \n",
    "        data[\"exclamation_mark_count\"] = [s.count(\"!\") for s in data[\"answer_text\"].values]\n",
    "        data[\"exclamation_mark_present\"] = (data[\"exclamation_mark_count\"] > 0).astype(int)\n",
    "        \n",
    "        data[\"log_question_score\"] = np.log(data[\"question_score\"] + 1)\n",
    "        \n",
    "        def count_capitalized(text):\n",
    "            return sum(1 for c in text if c.isupper())\n",
    "\n",
    "        data[\"ratio_capitalized\"] = data[\"answer_text\"].apply(count_capitalized) / data[\"answer_text\"].apply(len)\n",
    "        \n",
    "        return data"
   ]
  },
  {
   "cell_type": "code",
   "execution_count": 11,
   "metadata": {
    "collapsed": true
   },
   "outputs": [],
   "source": [
    "featureEngineer = FeatureEngineer()\n",
    "train = featureEngineer.transform(train)"
   ]
  },
  {
   "cell_type": "code",
   "execution_count": 12,
   "metadata": {
    "collapsed": true
   },
   "outputs": [],
   "source": [
    "test = featureEngineer.transform(test)"
   ]
  },
  {
   "cell_type": "code",
   "execution_count": 13,
   "metadata": {
    "collapsed": true
   },
   "outputs": [],
   "source": [
    "def n_answers(df):\n",
    "    temp = (df['question_id'].value_counts()\n",
    "    .reset_index().rename(columns={'question_id':'answers_count', 'index':'question_id'}))\n",
    "    df = df.merge(temp, on=['question_id'],how='left')\n",
    "    return df"
   ]
  },
  {
   "cell_type": "code",
   "execution_count": 14,
   "metadata": {
    "collapsed": true
   },
   "outputs": [],
   "source": [
    "train = n_answers(train)\n",
    "test = n_answers(test)"
   ]
  },
  {
   "cell_type": "code",
   "execution_count": 15,
   "metadata": {
    "collapsed": true
   },
   "outputs": [],
   "source": [
    "url_regex = 'https?://(?:[-\\w.]|(?:%[\\da-fA-F]{2}))+'\n",
    "img_regex = 'https?:[^)''\"]+\\.(?:jpg|jpeg|gif|png)'"
   ]
  },
  {
   "cell_type": "code",
   "execution_count": 16,
   "metadata": {
    "collapsed": true
   },
   "outputs": [],
   "source": [
    "for df in [train, test]:\n",
    "    df[\"text_length\"] = df[\"answer_text\"].apply(lambda x: len(x))\n",
    "    df[\"answer_imgs\"] = df[\"answer_text\"].apply(lambda x: len(re.findall(img_regex, x))) #number of imgs in answer\n",
    "    df[\"answer_links\"] = df[\"answer_text\"].apply(lambda x: len(re.findall(url_regex, x))) #number of links  that are not imgs\n",
    "    df[\"answer_links\"] = df[\"answer_links\"] - df[\"answer_imgs\"]\n",
    "    df.answer_imgs = df.answer_imgs.apply(lambda x: 6 if x > 6 else x)\n",
    "    df.answer_links = df.answer_links.apply(lambda x: 10 if x > 10 else x)"
   ]
  },
  {
   "cell_type": "code",
   "execution_count": 17,
   "metadata": {},
   "outputs": [
    {
     "data": {
      "text/plain": [
       "((852885, 28), (663082, 28))"
      ]
     },
     "execution_count": 17,
     "metadata": {},
     "output_type": "execute_result"
    }
   ],
   "source": [
    "train.shape, test.shape"
   ]
  },
  {
   "cell_type": "code",
   "execution_count": 18,
   "metadata": {
    "collapsed": true
   },
   "outputs": [],
   "source": [
    "concat_text = pd.concat([train.answer_text, test.answer_text, train.question_text, test.question_text])"
   ]
  },
  {
   "cell_type": "code",
   "execution_count": 19,
   "metadata": {
    "collapsed": true
   },
   "outputs": [],
   "source": [
    "tv = TfidfVectorizer(sublinear_tf=True, strip_accents='unicode', \n",
    "                     analyzer='word', token_pattern=r'\\w{1,}', \n",
    "                     ngram_range=(1, 1), stop_words='english', max_features=None)"
   ]
  },
  {
   "cell_type": "code",
   "execution_count": 20,
   "metadata": {},
   "outputs": [
    {
     "data": {
      "text/plain": [
       "TfidfVectorizer(analyzer='word', binary=False, decode_error='strict',\n",
       "        dtype=<class 'numpy.int64'>, encoding='utf-8', input='content',\n",
       "        lowercase=True, max_df=1.0, max_features=None, min_df=1,\n",
       "        ngram_range=(1, 1), norm='l2', preprocessor=None, smooth_idf=True,\n",
       "        stop_words='english', strip_accents='unicode', sublinear_tf=True,\n",
       "        token_pattern='\\\\w{1,}', tokenizer=None, use_idf=True,\n",
       "        vocabulary=None)"
      ]
     },
     "execution_count": 20,
     "metadata": {},
     "output_type": "execute_result"
    }
   ],
   "source": [
    "tv.fit(concat_text)"
   ]
  },
  {
   "cell_type": "code",
   "execution_count": 21,
   "metadata": {
    "collapsed": true
   },
   "outputs": [],
   "source": [
    "train_text_question_features = tv.transform(train.question_text)\n",
    "train_text_answer_features = tv.transform(train.answer_text)\n",
    "test_text_question_features = tv.transform(test.question_text)\n",
    "test_text_answer_features = tv.transform(test.answer_text)"
   ]
  },
  {
   "cell_type": "code",
   "execution_count": 22,
   "metadata": {
    "collapsed": true
   },
   "outputs": [],
   "source": [
    "lb = LabelBinarizer(sparse_output=True)"
   ]
  },
  {
   "cell_type": "code",
   "execution_count": 23,
   "metadata": {
    "collapsed": true
   },
   "outputs": [],
   "source": [
    "cv = CountVectorizer()"
   ]
  },
  {
   "cell_type": "code",
   "execution_count": 24,
   "metadata": {
    "collapsed": true
   },
   "outputs": [],
   "source": [
    "qid = pd.concat([train.question_id, test.question_id])\n",
    "subr = pd.concat([train.subreddit, test.subreddit])"
   ]
  },
  {
   "cell_type": "code",
   "execution_count": 25,
   "metadata": {
    "collapsed": true
   },
   "outputs": [],
   "source": [
    "cv.fit(qid)\n",
    "tr_qid = cv.transform(train.question_id)\n",
    "te_qid = cv.transform(test.question_id)"
   ]
  },
  {
   "cell_type": "code",
   "execution_count": 26,
   "metadata": {
    "collapsed": true
   },
   "outputs": [],
   "source": [
    "lb.fit(subr)\n",
    "tr_subr = lb.transform(train.subreddit)\n",
    "te_subr = lb.transform(test.subreddit)"
   ]
  },
  {
   "cell_type": "code",
   "execution_count": 27,
   "metadata": {},
   "outputs": [
    {
     "data": {
      "text/plain": [
       "((852885, 23), (663082, 23))"
      ]
     },
     "execution_count": 27,
     "metadata": {},
     "output_type": "execute_result"
    }
   ],
   "source": [
    "train_d = train.drop(['question_text', 'answer_text', 'question_id', 'subreddit', 'id'],axis=1)\n",
    "test_d = test.drop(['question_text', 'answer_text', 'question_id', 'subreddit', 'id'], axis=1)\n",
    "train_d.shape, test_d.shape"
   ]
  },
  {
   "cell_type": "code",
   "execution_count": 31,
   "metadata": {},
   "outputs": [
    {
     "data": {
      "text/html": [
       "<div>\n",
       "<style scoped>\n",
       "    .dataframe tbody tr th:only-of-type {\n",
       "        vertical-align: middle;\n",
       "    }\n",
       "\n",
       "    .dataframe tbody tr th {\n",
       "        vertical-align: top;\n",
       "    }\n",
       "\n",
       "    .dataframe thead th {\n",
       "        text-align: right;\n",
       "    }\n",
       "</style>\n",
       "<table border=\"1\" class=\"dataframe\">\n",
       "  <thead>\n",
       "    <tr style=\"text-align: right;\">\n",
       "      <th></th>\n",
       "      <th>question_utc</th>\n",
       "      <th>question_score</th>\n",
       "      <th>answer_utc</th>\n",
       "      <th>answer_utc_transofrmedWeek</th>\n",
       "      <th>answer_utc_transofrmedDay</th>\n",
       "      <th>answer_utc_transofrmedDayofweek</th>\n",
       "      <th>answer_utc_transofrmedDayofyear</th>\n",
       "      <th>question_utc_transofrmedWeek</th>\n",
       "      <th>question_utc_transofrmedDay</th>\n",
       "      <th>question_utc_transofrmedDayofweek</th>\n",
       "      <th>...</th>\n",
       "      <th>question_mark_count</th>\n",
       "      <th>question_mark_present</th>\n",
       "      <th>exclamation_mark_count</th>\n",
       "      <th>exclamation_mark_present</th>\n",
       "      <th>log_question_score</th>\n",
       "      <th>ratio_capitalized</th>\n",
       "      <th>answers_count</th>\n",
       "      <th>text_length</th>\n",
       "      <th>answer_imgs</th>\n",
       "      <th>answer_links</th>\n",
       "    </tr>\n",
       "  </thead>\n",
       "  <tbody>\n",
       "    <tr>\n",
       "      <th>0</th>\n",
       "      <td>1512086400</td>\n",
       "      <td>179</td>\n",
       "      <td>1512086616</td>\n",
       "      <td>48</td>\n",
       "      <td>1</td>\n",
       "      <td>4</td>\n",
       "      <td>335</td>\n",
       "      <td>48</td>\n",
       "      <td>1</td>\n",
       "      <td>4</td>\n",
       "      <td>...</td>\n",
       "      <td>0</td>\n",
       "      <td>0</td>\n",
       "      <td>0</td>\n",
       "      <td>0</td>\n",
       "      <td>5.19295685</td>\n",
       "      <td>0.03389831</td>\n",
       "      <td>9</td>\n",
       "      <td>59</td>\n",
       "      <td>0</td>\n",
       "      <td>0</td>\n",
       "    </tr>\n",
       "    <tr>\n",
       "      <th>1</th>\n",
       "      <td>1512086400</td>\n",
       "      <td>179</td>\n",
       "      <td>1512090694</td>\n",
       "      <td>48</td>\n",
       "      <td>1</td>\n",
       "      <td>4</td>\n",
       "      <td>335</td>\n",
       "      <td>48</td>\n",
       "      <td>1</td>\n",
       "      <td>4</td>\n",
       "      <td>...</td>\n",
       "      <td>0</td>\n",
       "      <td>0</td>\n",
       "      <td>0</td>\n",
       "      <td>0</td>\n",
       "      <td>5.19295685</td>\n",
       "      <td>0.02666667</td>\n",
       "      <td>9</td>\n",
       "      <td>75</td>\n",
       "      <td>0</td>\n",
       "      <td>0</td>\n",
       "    </tr>\n",
       "    <tr>\n",
       "      <th>2</th>\n",
       "      <td>1512086400</td>\n",
       "      <td>179</td>\n",
       "      <td>1512090763</td>\n",
       "      <td>48</td>\n",
       "      <td>1</td>\n",
       "      <td>4</td>\n",
       "      <td>335</td>\n",
       "      <td>48</td>\n",
       "      <td>1</td>\n",
       "      <td>4</td>\n",
       "      <td>...</td>\n",
       "      <td>1</td>\n",
       "      <td>1</td>\n",
       "      <td>0</td>\n",
       "      <td>0</td>\n",
       "      <td>5.19295685</td>\n",
       "      <td>0.05769231</td>\n",
       "      <td>9</td>\n",
       "      <td>52</td>\n",
       "      <td>0</td>\n",
       "      <td>0</td>\n",
       "    </tr>\n",
       "    <tr>\n",
       "      <th>3</th>\n",
       "      <td>1512086400</td>\n",
       "      <td>179</td>\n",
       "      <td>1512091349</td>\n",
       "      <td>48</td>\n",
       "      <td>1</td>\n",
       "      <td>4</td>\n",
       "      <td>335</td>\n",
       "      <td>48</td>\n",
       "      <td>1</td>\n",
       "      <td>4</td>\n",
       "      <td>...</td>\n",
       "      <td>0</td>\n",
       "      <td>0</td>\n",
       "      <td>0</td>\n",
       "      <td>0</td>\n",
       "      <td>5.19295685</td>\n",
       "      <td>0.02564103</td>\n",
       "      <td>9</td>\n",
       "      <td>78</td>\n",
       "      <td>0</td>\n",
       "      <td>0</td>\n",
       "    </tr>\n",
       "    <tr>\n",
       "      <th>4</th>\n",
       "      <td>1512086400</td>\n",
       "      <td>179</td>\n",
       "      <td>1512133012</td>\n",
       "      <td>48</td>\n",
       "      <td>1</td>\n",
       "      <td>4</td>\n",
       "      <td>335</td>\n",
       "      <td>48</td>\n",
       "      <td>1</td>\n",
       "      <td>4</td>\n",
       "      <td>...</td>\n",
       "      <td>0</td>\n",
       "      <td>0</td>\n",
       "      <td>0</td>\n",
       "      <td>0</td>\n",
       "      <td>5.19295685</td>\n",
       "      <td>0.08750000</td>\n",
       "      <td>9</td>\n",
       "      <td>160</td>\n",
       "      <td>0</td>\n",
       "      <td>0</td>\n",
       "    </tr>\n",
       "  </tbody>\n",
       "</table>\n",
       "<p>5 rows × 23 columns</p>\n",
       "</div>"
      ],
      "text/plain": [
       "   question_utc  question_score  answer_utc  answer_utc_transofrmedWeek  \\\n",
       "0    1512086400             179  1512086616                          48   \n",
       "1    1512086400             179  1512090694                          48   \n",
       "2    1512086400             179  1512090763                          48   \n",
       "3    1512086400             179  1512091349                          48   \n",
       "4    1512086400             179  1512133012                          48   \n",
       "\n",
       "   answer_utc_transofrmedDay  answer_utc_transofrmedDayofweek  \\\n",
       "0                          1                                4   \n",
       "1                          1                                4   \n",
       "2                          1                                4   \n",
       "3                          1                                4   \n",
       "4                          1                                4   \n",
       "\n",
       "   answer_utc_transofrmedDayofyear  question_utc_transofrmedWeek  \\\n",
       "0                              335                            48   \n",
       "1                              335                            48   \n",
       "2                              335                            48   \n",
       "3                              335                            48   \n",
       "4                              335                            48   \n",
       "\n",
       "   question_utc_transofrmedDay  question_utc_transofrmedDayofweek  \\\n",
       "0                            1                                  4   \n",
       "1                            1                                  4   \n",
       "2                            1                                  4   \n",
       "3                            1                                  4   \n",
       "4                            1                                  4   \n",
       "\n",
       "       ...       question_mark_count  question_mark_present  \\\n",
       "0      ...                         0                      0   \n",
       "1      ...                         0                      0   \n",
       "2      ...                         1                      1   \n",
       "3      ...                         0                      0   \n",
       "4      ...                         0                      0   \n",
       "\n",
       "   exclamation_mark_count  exclamation_mark_present  log_question_score  \\\n",
       "0                       0                         0          5.19295685   \n",
       "1                       0                         0          5.19295685   \n",
       "2                       0                         0          5.19295685   \n",
       "3                       0                         0          5.19295685   \n",
       "4                       0                         0          5.19295685   \n",
       "\n",
       "   ratio_capitalized  answers_count  text_length  answer_imgs  answer_links  \n",
       "0         0.03389831              9           59            0             0  \n",
       "1         0.02666667              9           75            0             0  \n",
       "2         0.05769231              9           52            0             0  \n",
       "3         0.02564103              9           78            0             0  \n",
       "4         0.08750000              9          160            0             0  \n",
       "\n",
       "[5 rows x 23 columns]"
      ]
     },
     "execution_count": 31,
     "metadata": {},
     "output_type": "execute_result"
    }
   ],
   "source": [
    "train_d.head()"
   ]
  },
  {
   "cell_type": "code",
   "execution_count": 32,
   "metadata": {
    "collapsed": true
   },
   "outputs": [],
   "source": [
    "x = hstack((train_text_question_features, train_text_answer_features, tr_subr, train_d))"
   ]
  },
  {
   "cell_type": "code",
   "execution_count": 33,
   "metadata": {
    "collapsed": true
   },
   "outputs": [],
   "source": [
    "x_test = hstack((test_text_question_features, test_text_answer_features, te_subr, test_d))"
   ]
  },
  {
   "cell_type": "code",
   "execution_count": 256,
   "metadata": {
    "scrolled": true
   },
   "outputs": [
    {
     "name": "stdout",
     "output_type": "stream",
     "text": [
      "Training until validation scores don't improve for 50 rounds.\n",
      "[10]\ttraining's rmse: 165.312\tvalid_1's rmse: 168.329\n",
      "[20]\ttraining's rmse: 156.107\tvalid_1's rmse: 164.696\n",
      "[30]\ttraining's rmse: 152.985\tvalid_1's rmse: 164.17\n",
      "[40]\ttraining's rmse: 151.133\tvalid_1's rmse: 164.145\n",
      "[50]\ttraining's rmse: 150.069\tvalid_1's rmse: 164.009\n",
      "Did not meet early stopping. Best iteration is:\n",
      "[50]\ttraining's rmse: 150.069\tvalid_1's rmse: 164.009\n"
     ]
    }
   ],
   "source": [
    "train_X, valid_X, train_y, valid_y = train_test_split(x, np.log1p(y), test_size = 0.15, random_state = 42) \n",
    "d_train = lgb.Dataset(train_X, label=train_y)\n",
    "d_valid = lgb.Dataset(valid_X, label=valid_y)\n",
    "watchlist = [d_train, d_valid]\n",
    "params = {\n",
    "        'learning_rate': 0.01,\n",
    "        'application': 'regression',\n",
    "        'max_depth': 12,\n",
    "        'num_leaves': 5046,\n",
    "        'verbosity': -1,\n",
    "        'metric': 'RMSE',\n",
    "        'data_random_seed': 1,\n",
    "        'bagging_fraction': 1,\n",
    "        'nthread': 8,\n",
    "        'max_bin': 819,\n",
    "        \n",
    "}\n",
    "model = lgb.train(params, train_set=d_train, num_boost_round=2000, valid_sets=watchlist, \\\n",
    "    early_stopping_rounds=50, verbose_eval=10) "
   ]
  },
  {
   "cell_type": "code",
   "execution_count": null,
   "metadata": {
    "collapsed": true
   },
   "outputs": [],
   "source": [
    "predL = model.predict(x_test)"
   ]
  },
  {
   "cell_type": "code",
   "execution_count": 200,
   "metadata": {
    "collapsed": true
   },
   "outputs": [],
   "source": [
    "s = pd.read_csv('sample_submission.csv')\n",
    "s.answer_score = np.expm1(predL)\n",
    "s.to_csv('4.csv', index=False)"
   ]
  },
  {
   "cell_type": "code",
   "execution_count": null,
   "metadata": {
    "collapsed": true
   },
   "outputs": [],
   "source": []
  }
 ],
 "metadata": {
  "kernelspec": {
   "display_name": "Python 3",
   "language": "python",
   "name": "python3"
  },
  "language_info": {
   "codemirror_mode": {
    "name": "ipython",
    "version": 3
   },
   "file_extension": ".py",
   "mimetype": "text/x-python",
   "name": "python",
   "nbconvert_exporter": "python",
   "pygments_lexer": "ipython3",
   "version": "3.6.3"
  }
 },
 "nbformat": 4,
 "nbformat_minor": 2
}
