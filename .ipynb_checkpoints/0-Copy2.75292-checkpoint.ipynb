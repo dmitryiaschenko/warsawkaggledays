{
 "cells": [
  {
   "cell_type": "code",
   "execution_count": 1,
   "metadata": {},
   "outputs": [],
   "source": [
    "import pandas as pd\n",
    "import seaborn as sns\n",
    "%matplotlib inline\n",
    "import matplotlib.pyplot as plt\n",
    "from sklearn import preprocessing\n",
    "import numpy as np\n",
    "from sklearn.preprocessing import LabelEncoder\n",
    "pd.options.display.float_format = '{:.8f}'.format\n",
    "import os, sys\n",
    "from fastai.imports import *\n",
    "from fastai.structured import *\n",
    "from sklearn.feature_extraction.text import CountVectorizer, TfidfVectorizer\n",
    "from sklearn.preprocessing import LabelBinarizer\n",
    "from scipy.sparse import csr_matrix, hstack\n",
    "from sklearn.linear_model import LogisticRegression\n",
    "from sklearn.linear_model import Ridge\n",
    "from sklearn.model_selection import train_test_split\n",
    "import lightgbm as lgb\n",
    "from sklearn.base import BaseEstimator, TransformerMixin"
   ]
  },
  {
   "cell_type": "code",
   "execution_count": 2,
   "metadata": {},
   "outputs": [],
   "source": [
    "test = pd.read_csv('test.csv', error_bad_lines=False, sep='\\t')\n",
    "train = pd.read_csv('train.csv', error_bad_lines=False, sep='\\t')"
   ]
  },
  {
   "cell_type": "code",
   "execution_count": 3,
   "metadata": {},
   "outputs": [],
   "source": [
    "y = train.answer_score"
   ]
  },
  {
   "cell_type": "code",
   "execution_count": 4,
   "metadata": {},
   "outputs": [],
   "source": [
    "train = train.drop(['answer_score'], axis=1)"
   ]
  },
  {
   "cell_type": "code",
   "execution_count": 5,
   "metadata": {},
   "outputs": [
    {
     "data": {
      "text/plain": [
       "((852885, 8), (663082, 8))"
      ]
     },
     "execution_count": 5,
     "metadata": {},
     "output_type": "execute_result"
    }
   ],
   "source": [
    "train.shape, test.shape"
   ]
  },
  {
   "cell_type": "code",
   "execution_count": 202,
   "metadata": {},
   "outputs": [],
   "source": [
    "dates = ['question_utc', 'answer_utc']"
   ]
  },
  {
   "cell_type": "code",
   "execution_count": 6,
   "metadata": {},
   "outputs": [],
   "source": [
    "train['question_utc_transofrmed'] = pd.to_datetime(train['question_utc'],unit='s')\n",
    "train['answer_utc_transofrmed'] = pd.to_datetime(train['answer_utc'],unit='s')\n",
    "test['question_utc_transofrmed'] = pd.to_datetime(test['question_utc'],unit='s')\n",
    "test['answer_utc_transofrmed'] = pd.to_datetime(test['answer_utc'],unit='s')"
   ]
  },
  {
   "cell_type": "code",
   "execution_count": 7,
   "metadata": {},
   "outputs": [],
   "source": [
    "def add_dateparts(df, fldname, drop=True):\n",
    "    fld = df[fldname]\n",
    "    if not np.issubdtype(fld.dtype, np.datetime64):\n",
    "        df[fldname] = fld = pd.to_datetime(fld, infer_datetime_format=True)\n",
    "    targ_pre = re.sub('[Dd]ate$', '', fldname)\n",
    "    for n in ('Year', 'Month', 'Week', 'Day', 'Dayofweek', 'Dayofyear'):\n",
    "        df[targ_pre+n] = getattr(fld.dt,n.lower())\n",
    "    if drop: df.drop(fldname, axis=1, inplace=True)"
   ]
  },
  {
   "cell_type": "code",
   "execution_count": 8,
   "metadata": {},
   "outputs": [],
   "source": [
    "add_dateparts(train, 'answer_utc_transofrmed')\n",
    "add_dateparts(train, 'question_utc_transofrmed')\n",
    "add_dateparts(test, 'answer_utc_transofrmed')\n",
    "add_dateparts(test, 'question_utc_transofrmed')"
   ]
  },
  {
   "cell_type": "code",
   "execution_count": 9,
   "metadata": {},
   "outputs": [],
   "source": [
    "train['answ_quest_dif'] = train['answer_utc'] - train['question_utc']\n",
    "test['answ_quest_dif'] = test['answer_utc'] - test['question_utc']"
   ]
  },
  {
   "cell_type": "code",
   "execution_count": 10,
   "metadata": {},
   "outputs": [],
   "source": [
    "class FeatureEngineer(BaseEstimator, TransformerMixin):\n",
    "    def __init__(self):\n",
    "        super(FeatureEngineer, self).__init__()\n",
    "\n",
    "    def fit(self, data, *args, **kwargs):\n",
    "        return self\n",
    "\n",
    "    def transform(self, data, *args, **kwargs):\n",
    "        data['log_len'] = np.log(data[\"answer_text\"].apply(len))\n",
    "        \n",
    "        data[\"question_mark_count\"] = [s.count(\"?\") for s in data[\"answer_text\"].values]\n",
    "        data[\"question_mark_present\"] = (data[\"question_mark_count\"] > 0).astype(int)\n",
    "        \n",
    "        data[\"exclamation_mark_count\"] = [s.count(\"!\") for s in data[\"answer_text\"].values]\n",
    "        data[\"exclamation_mark_present\"] = (data[\"exclamation_mark_count\"] > 0).astype(int)\n",
    "        \n",
    "        data[\"log_question_score\"] = np.log(data[\"question_score\"] + 1)\n",
    "        \n",
    "        def count_capitalized(text):\n",
    "            return sum(1 for c in text if c.isupper())\n",
    "\n",
    "        data[\"ratio_capitalized\"] = data[\"answer_text\"].apply(count_capitalized) / data[\"answer_text\"].apply(len)\n",
    "        \n",
    "        return data"
   ]
  },
  {
   "cell_type": "code",
   "execution_count": 11,
   "metadata": {},
   "outputs": [],
   "source": [
    "featureEngineer = FeatureEngineer()\n",
    "train = featureEngineer.transform(train)"
   ]
  },
  {
   "cell_type": "code",
   "execution_count": 12,
   "metadata": {},
   "outputs": [],
   "source": [
    "test = featureEngineer.transform(test)"
   ]
  },
  {
   "cell_type": "code",
   "execution_count": 13,
   "metadata": {},
   "outputs": [
    {
     "data": {
      "text/plain": [
       "((852885, 28), (663082, 28))"
      ]
     },
     "execution_count": 13,
     "metadata": {},
     "output_type": "execute_result"
    }
   ],
   "source": [
    "train.shape, test.shape"
   ]
  },
  {
   "cell_type": "code",
   "execution_count": 14,
   "metadata": {},
   "outputs": [],
   "source": [
    "concat_text = pd.concat([train.answer_text, test.answer_text, train.question_text, test.question_text])"
   ]
  },
  {
   "cell_type": "code",
   "execution_count": 15,
   "metadata": {},
   "outputs": [],
   "source": [
    "tv = TfidfVectorizer(sublinear_tf=True, strip_accents='unicode', \n",
    "                     analyzer='word', token_pattern=r'\\w{1,}', \n",
    "                     ngram_range=(1, 1), stop_words='english', max_features=None)"
   ]
  },
  {
   "cell_type": "code",
   "execution_count": 18,
   "metadata": {},
   "outputs": [],
   "source": [
    "ctv = TfidfVectorizer(ngram_range=(1,5), \n",
    "                      strip_accents='unicode', \n",
    "                      use_idf=1, \n",
    "                      smooth_idf=1, \n",
    "                      sublinear_tf=1, \n",
    "                      analyzer='char', \n",
    "                      max_features=30000)"
   ]
  },
  {
   "cell_type": "code",
   "execution_count": 16,
   "metadata": {},
   "outputs": [
    {
     "data": {
      "text/plain": [
       "TfidfVectorizer(analyzer='word', binary=False, decode_error='strict',\n",
       "        dtype=<class 'numpy.int64'>, encoding='utf-8', input='content',\n",
       "        lowercase=True, max_df=1.0, max_features=None, min_df=1,\n",
       "        ngram_range=(1, 1), norm='l2', preprocessor=None, smooth_idf=True,\n",
       "        stop_words='english', strip_accents='unicode', sublinear_tf=True,\n",
       "        token_pattern='\\\\w{1,}', tokenizer=None, use_idf=True,\n",
       "        vocabulary=None)"
      ]
     },
     "execution_count": 16,
     "metadata": {},
     "output_type": "execute_result"
    }
   ],
   "source": [
    "tv.fit(concat_text)"
   ]
  },
  {
   "cell_type": "code",
   "execution_count": null,
   "metadata": {},
   "outputs": [],
   "source": [
    "ctv.fit(concat_text)"
   ]
  },
  {
   "cell_type": "code",
   "execution_count": 17,
   "metadata": {},
   "outputs": [],
   "source": [
    "train_text_question_features = tv.transform(train.question_text)\n",
    "train_text_answer_features = tv.transform(train.answer_text)\n",
    "test_text_question_features = tv.transform(test.question_text)\n",
    "test_text_answer_features = tv.transform(test.answer_text)"
   ]
  },
  {
   "cell_type": "code",
   "execution_count": null,
   "metadata": {},
   "outputs": [],
   "source": [
    "train_text_char_question_features = ctv.transform(train.question_text)\n",
    "train_text_char_answer_features = ctv.transform(train.answer_text)\n",
    "test_text_char_question_features = ctv.transform(test.question_text)\n",
    "test_text_char_answer_features = ctv.transform(test.answer_text)"
   ]
  },
  {
   "cell_type": "code",
   "execution_count": 18,
   "metadata": {},
   "outputs": [],
   "source": [
    "lb = LabelBinarizer(sparse_output=True)"
   ]
  },
  {
   "cell_type": "code",
   "execution_count": 19,
   "metadata": {},
   "outputs": [],
   "source": [
    "cv = CountVectorizer()"
   ]
  },
  {
   "cell_type": "code",
   "execution_count": 20,
   "metadata": {},
   "outputs": [],
   "source": [
    "qid = pd.concat([train.question_id, test.question_id])\n",
    "subr = pd.concat([train.subreddit, test.subreddit])"
   ]
  },
  {
   "cell_type": "code",
   "execution_count": 21,
   "metadata": {},
   "outputs": [],
   "source": [
    "cv.fit(qid)\n",
    "tr_qid = cv.transform(train.question_id)\n",
    "te_qid = cv.transform(test.question_id)"
   ]
  },
  {
   "cell_type": "code",
   "execution_count": 22,
   "metadata": {},
   "outputs": [],
   "source": [
    "lb.fit(subr)\n",
    "tr_subr = lb.transform(train.subreddit)\n",
    "te_subr = lb.transform(test.subreddit)"
   ]
  },
  {
   "cell_type": "code",
   "execution_count": 23,
   "metadata": {},
   "outputs": [
    {
     "data": {
      "text/plain": [
       "((852885, 24), (663082, 24))"
      ]
     },
     "execution_count": 23,
     "metadata": {},
     "output_type": "execute_result"
    }
   ],
   "source": [
    "train_d = train.drop(['question_text', 'answer_text', 'question_id', 'subreddit'],axis=1)\n",
    "test_d = test.drop(['question_text', 'answer_text', 'question_id', 'subreddit'], axis=1)\n",
    "train_d.shape, test_d.shape"
   ]
  },
  {
   "cell_type": "code",
   "execution_count": 24,
   "metadata": {},
   "outputs": [
    {
     "data": {
      "text/html": [
       "<div>\n",
       "<style scoped>\n",
       "    .dataframe tbody tr th:only-of-type {\n",
       "        vertical-align: middle;\n",
       "    }\n",
       "\n",
       "    .dataframe tbody tr th {\n",
       "        vertical-align: top;\n",
       "    }\n",
       "\n",
       "    .dataframe thead th {\n",
       "        text-align: right;\n",
       "    }\n",
       "</style>\n",
       "<table border=\"1\" class=\"dataframe\">\n",
       "  <thead>\n",
       "    <tr style=\"text-align: right;\">\n",
       "      <th></th>\n",
       "      <th>id</th>\n",
       "      <th>question_utc</th>\n",
       "      <th>question_score</th>\n",
       "      <th>answer_utc</th>\n",
       "      <th>answer_utc_transofrmedYear</th>\n",
       "      <th>answer_utc_transofrmedMonth</th>\n",
       "      <th>answer_utc_transofrmedWeek</th>\n",
       "      <th>answer_utc_transofrmedDay</th>\n",
       "      <th>answer_utc_transofrmedDayofweek</th>\n",
       "      <th>answer_utc_transofrmedDayofyear</th>\n",
       "      <th>...</th>\n",
       "      <th>question_utc_transofrmedDayofweek</th>\n",
       "      <th>question_utc_transofrmedDayofyear</th>\n",
       "      <th>answ_quest_dif</th>\n",
       "      <th>log_len</th>\n",
       "      <th>question_mark_count</th>\n",
       "      <th>question_mark_present</th>\n",
       "      <th>exclamation_mark_count</th>\n",
       "      <th>exclamation_mark_present</th>\n",
       "      <th>log_question_score</th>\n",
       "      <th>ratio_capitalized</th>\n",
       "    </tr>\n",
       "  </thead>\n",
       "  <tbody>\n",
       "    <tr>\n",
       "      <th>0</th>\n",
       "      <td>330435</td>\n",
       "      <td>1512086400</td>\n",
       "      <td>179</td>\n",
       "      <td>1512086616</td>\n",
       "      <td>2017</td>\n",
       "      <td>12</td>\n",
       "      <td>48</td>\n",
       "      <td>1</td>\n",
       "      <td>4</td>\n",
       "      <td>335</td>\n",
       "      <td>...</td>\n",
       "      <td>4</td>\n",
       "      <td>335</td>\n",
       "      <td>216</td>\n",
       "      <td>4.07753744</td>\n",
       "      <td>0</td>\n",
       "      <td>0</td>\n",
       "      <td>0</td>\n",
       "      <td>0</td>\n",
       "      <td>5.19295685</td>\n",
       "      <td>0.03389831</td>\n",
       "    </tr>\n",
       "    <tr>\n",
       "      <th>1</th>\n",
       "      <td>1944975</td>\n",
       "      <td>1512086400</td>\n",
       "      <td>179</td>\n",
       "      <td>1512090694</td>\n",
       "      <td>2017</td>\n",
       "      <td>12</td>\n",
       "      <td>48</td>\n",
       "      <td>1</td>\n",
       "      <td>4</td>\n",
       "      <td>335</td>\n",
       "      <td>...</td>\n",
       "      <td>4</td>\n",
       "      <td>335</td>\n",
       "      <td>4294</td>\n",
       "      <td>4.31748811</td>\n",
       "      <td>0</td>\n",
       "      <td>0</td>\n",
       "      <td>0</td>\n",
       "      <td>0</td>\n",
       "      <td>5.19295685</td>\n",
       "      <td>0.02666667</td>\n",
       "    </tr>\n",
       "    <tr>\n",
       "      <th>2</th>\n",
       "      <td>2218735</td>\n",
       "      <td>1512086400</td>\n",
       "      <td>179</td>\n",
       "      <td>1512090763</td>\n",
       "      <td>2017</td>\n",
       "      <td>12</td>\n",
       "      <td>48</td>\n",
       "      <td>1</td>\n",
       "      <td>4</td>\n",
       "      <td>335</td>\n",
       "      <td>...</td>\n",
       "      <td>4</td>\n",
       "      <td>335</td>\n",
       "      <td>4363</td>\n",
       "      <td>3.95124372</td>\n",
       "      <td>1</td>\n",
       "      <td>1</td>\n",
       "      <td>0</td>\n",
       "      <td>0</td>\n",
       "      <td>5.19295685</td>\n",
       "      <td>0.05769231</td>\n",
       "    </tr>\n",
       "    <tr>\n",
       "      <th>3</th>\n",
       "      <td>2133251</td>\n",
       "      <td>1512086400</td>\n",
       "      <td>179</td>\n",
       "      <td>1512091349</td>\n",
       "      <td>2017</td>\n",
       "      <td>12</td>\n",
       "      <td>48</td>\n",
       "      <td>1</td>\n",
       "      <td>4</td>\n",
       "      <td>335</td>\n",
       "      <td>...</td>\n",
       "      <td>4</td>\n",
       "      <td>335</td>\n",
       "      <td>4949</td>\n",
       "      <td>4.35670883</td>\n",
       "      <td>0</td>\n",
       "      <td>0</td>\n",
       "      <td>0</td>\n",
       "      <td>0</td>\n",
       "      <td>5.19295685</td>\n",
       "      <td>0.02564103</td>\n",
       "    </tr>\n",
       "    <tr>\n",
       "      <th>4</th>\n",
       "      <td>2133252</td>\n",
       "      <td>1512086400</td>\n",
       "      <td>179</td>\n",
       "      <td>1512133012</td>\n",
       "      <td>2017</td>\n",
       "      <td>12</td>\n",
       "      <td>48</td>\n",
       "      <td>1</td>\n",
       "      <td>4</td>\n",
       "      <td>335</td>\n",
       "      <td>...</td>\n",
       "      <td>4</td>\n",
       "      <td>335</td>\n",
       "      <td>46612</td>\n",
       "      <td>5.07517382</td>\n",
       "      <td>0</td>\n",
       "      <td>0</td>\n",
       "      <td>0</td>\n",
       "      <td>0</td>\n",
       "      <td>5.19295685</td>\n",
       "      <td>0.08750000</td>\n",
       "    </tr>\n",
       "  </tbody>\n",
       "</table>\n",
       "<p>5 rows × 24 columns</p>\n",
       "</div>"
      ],
      "text/plain": [
       "        id  question_utc  question_score  answer_utc  \\\n",
       "0   330435    1512086400             179  1512086616   \n",
       "1  1944975    1512086400             179  1512090694   \n",
       "2  2218735    1512086400             179  1512090763   \n",
       "3  2133251    1512086400             179  1512091349   \n",
       "4  2133252    1512086400             179  1512133012   \n",
       "\n",
       "   answer_utc_transofrmedYear  answer_utc_transofrmedMonth  \\\n",
       "0                        2017                           12   \n",
       "1                        2017                           12   \n",
       "2                        2017                           12   \n",
       "3                        2017                           12   \n",
       "4                        2017                           12   \n",
       "\n",
       "   answer_utc_transofrmedWeek  answer_utc_transofrmedDay  \\\n",
       "0                          48                          1   \n",
       "1                          48                          1   \n",
       "2                          48                          1   \n",
       "3                          48                          1   \n",
       "4                          48                          1   \n",
       "\n",
       "   answer_utc_transofrmedDayofweek  answer_utc_transofrmedDayofyear  \\\n",
       "0                                4                              335   \n",
       "1                                4                              335   \n",
       "2                                4                              335   \n",
       "3                                4                              335   \n",
       "4                                4                              335   \n",
       "\n",
       "         ...          question_utc_transofrmedDayofweek  \\\n",
       "0        ...                                          4   \n",
       "1        ...                                          4   \n",
       "2        ...                                          4   \n",
       "3        ...                                          4   \n",
       "4        ...                                          4   \n",
       "\n",
       "   question_utc_transofrmedDayofyear  answ_quest_dif    log_len  \\\n",
       "0                                335             216 4.07753744   \n",
       "1                                335            4294 4.31748811   \n",
       "2                                335            4363 3.95124372   \n",
       "3                                335            4949 4.35670883   \n",
       "4                                335           46612 5.07517382   \n",
       "\n",
       "   question_mark_count  question_mark_present  exclamation_mark_count  \\\n",
       "0                    0                      0                       0   \n",
       "1                    0                      0                       0   \n",
       "2                    1                      1                       0   \n",
       "3                    0                      0                       0   \n",
       "4                    0                      0                       0   \n",
       "\n",
       "   exclamation_mark_present  log_question_score  ratio_capitalized  \n",
       "0                         0          5.19295685         0.03389831  \n",
       "1                         0          5.19295685         0.02666667  \n",
       "2                         0          5.19295685         0.05769231  \n",
       "3                         0          5.19295685         0.02564103  \n",
       "4                         0          5.19295685         0.08750000  \n",
       "\n",
       "[5 rows x 24 columns]"
      ]
     },
     "execution_count": 24,
     "metadata": {},
     "output_type": "execute_result"
    }
   ],
   "source": [
    "train_d.head()"
   ]
  },
  {
   "cell_type": "code",
   "execution_count": 28,
   "metadata": {},
   "outputs": [],
   "source": [
    "x = hstack((train_text_question_features, train_text_answer_features, tr_qid, tr_subr, train_d))"
   ]
  },
  {
   "cell_type": "code",
   "execution_count": 29,
   "metadata": {},
   "outputs": [],
   "source": [
    "x_test = hstack((test_text_question_features, test_text_answer_features, te_qid, te_subr, test_d))"
   ]
  },
  {
   "cell_type": "code",
   "execution_count": 30,
   "metadata": {
    "scrolled": true
   },
   "outputs": [
    {
     "name": "stdout",
     "output_type": "stream",
     "text": [
      "Training until validation scores don't improve for 500 rounds.\n",
      "[10]\ttraining's rmse: 0.849966\tvalid_1's rmse: 0.857567\n",
      "[20]\ttraining's rmse: 0.804697\tvalid_1's rmse: 0.815016\n",
      "[30]\ttraining's rmse: 0.789033\tvalid_1's rmse: 0.801686\n",
      "[40]\ttraining's rmse: 0.779501\tvalid_1's rmse: 0.79458\n",
      "[50]\ttraining's rmse: 0.773193\tvalid_1's rmse: 0.790569\n",
      "[60]\ttraining's rmse: 0.768513\tvalid_1's rmse: 0.787505\n",
      "[70]\ttraining's rmse: 0.764695\tvalid_1's rmse: 0.785344\n",
      "[80]\ttraining's rmse: 0.761108\tvalid_1's rmse: 0.783348\n",
      "[90]\ttraining's rmse: 0.758768\tvalid_1's rmse: 0.782071\n",
      "[100]\ttraining's rmse: 0.756941\tvalid_1's rmse: 0.781263\n",
      "[110]\ttraining's rmse: 0.755386\tvalid_1's rmse: 0.780495\n",
      "[120]\ttraining's rmse: 0.753953\tvalid_1's rmse: 0.779831\n",
      "[130]\ttraining's rmse: 0.752359\tvalid_1's rmse: 0.779164\n",
      "[140]\ttraining's rmse: 0.750249\tvalid_1's rmse: 0.778236\n",
      "[150]\ttraining's rmse: 0.748789\tvalid_1's rmse: 0.777602\n",
      "[160]\ttraining's rmse: 0.747702\tvalid_1's rmse: 0.777166\n",
      "[170]\ttraining's rmse: 0.746689\tvalid_1's rmse: 0.776747\n",
      "[180]\ttraining's rmse: 0.745668\tvalid_1's rmse: 0.776335\n",
      "[190]\ttraining's rmse: 0.7441\tvalid_1's rmse: 0.775685\n",
      "[200]\ttraining's rmse: 0.743194\tvalid_1's rmse: 0.775292\n",
      "[210]\ttraining's rmse: 0.74225\tvalid_1's rmse: 0.774938\n",
      "[220]\ttraining's rmse: 0.741311\tvalid_1's rmse: 0.77459\n",
      "[230]\ttraining's rmse: 0.740001\tvalid_1's rmse: 0.773948\n",
      "[240]\ttraining's rmse: 0.739283\tvalid_1's rmse: 0.773721\n",
      "[250]\ttraining's rmse: 0.738451\tvalid_1's rmse: 0.773464\n",
      "[260]\ttraining's rmse: 0.737455\tvalid_1's rmse: 0.773156\n",
      "[270]\ttraining's rmse: 0.736649\tvalid_1's rmse: 0.772951\n",
      "[280]\ttraining's rmse: 0.735953\tvalid_1's rmse: 0.772815\n",
      "[290]\ttraining's rmse: 0.734744\tvalid_1's rmse: 0.77223\n",
      "[300]\ttraining's rmse: 0.733791\tvalid_1's rmse: 0.771824\n",
      "[310]\ttraining's rmse: 0.733068\tvalid_1's rmse: 0.771635\n",
      "[320]\ttraining's rmse: 0.732265\tvalid_1's rmse: 0.771362\n",
      "[330]\ttraining's rmse: 0.731552\tvalid_1's rmse: 0.771127\n",
      "[340]\ttraining's rmse: 0.730735\tvalid_1's rmse: 0.770854\n",
      "[350]\ttraining's rmse: 0.729465\tvalid_1's rmse: 0.770272\n",
      "[360]\ttraining's rmse: 0.728692\tvalid_1's rmse: 0.770078\n",
      "[370]\ttraining's rmse: 0.728116\tvalid_1's rmse: 0.769941\n",
      "[380]\ttraining's rmse: 0.727488\tvalid_1's rmse: 0.769776\n",
      "[390]\ttraining's rmse: 0.726847\tvalid_1's rmse: 0.769576\n",
      "[400]\ttraining's rmse: 0.726046\tvalid_1's rmse: 0.769315\n",
      "[410]\ttraining's rmse: 0.725518\tvalid_1's rmse: 0.769211\n",
      "[420]\ttraining's rmse: 0.724914\tvalid_1's rmse: 0.769057\n",
      "[430]\ttraining's rmse: 0.724381\tvalid_1's rmse: 0.768878\n",
      "[440]\ttraining's rmse: 0.723798\tvalid_1's rmse: 0.768691\n",
      "[450]\ttraining's rmse: 0.72309\tvalid_1's rmse: 0.76852\n",
      "[460]\ttraining's rmse: 0.72256\tvalid_1's rmse: 0.768419\n",
      "[470]\ttraining's rmse: 0.722012\tvalid_1's rmse: 0.768304\n",
      "[480]\ttraining's rmse: 0.721171\tvalid_1's rmse: 0.768038\n",
      "[490]\ttraining's rmse: 0.720498\tvalid_1's rmse: 0.767806\n",
      "[500]\ttraining's rmse: 0.719822\tvalid_1's rmse: 0.767601\n",
      "[510]\ttraining's rmse: 0.71913\tvalid_1's rmse: 0.76739\n",
      "[520]\ttraining's rmse: 0.718519\tvalid_1's rmse: 0.767221\n",
      "[530]\ttraining's rmse: 0.717988\tvalid_1's rmse: 0.7671\n",
      "[540]\ttraining's rmse: 0.717392\tvalid_1's rmse: 0.767001\n",
      "[550]\ttraining's rmse: 0.716982\tvalid_1's rmse: 0.766967\n",
      "[560]\ttraining's rmse: 0.716448\tvalid_1's rmse: 0.766831\n",
      "[570]\ttraining's rmse: 0.715684\tvalid_1's rmse: 0.76663\n",
      "[580]\ttraining's rmse: 0.715151\tvalid_1's rmse: 0.766488\n",
      "[590]\ttraining's rmse: 0.714636\tvalid_1's rmse: 0.766371\n",
      "[600]\ttraining's rmse: 0.714025\tvalid_1's rmse: 0.76619\n",
      "[610]\ttraining's rmse: 0.713576\tvalid_1's rmse: 0.766069\n",
      "[620]\ttraining's rmse: 0.713088\tvalid_1's rmse: 0.766008\n",
      "[630]\ttraining's rmse: 0.712607\tvalid_1's rmse: 0.765912\n",
      "[640]\ttraining's rmse: 0.712132\tvalid_1's rmse: 0.765817\n",
      "[650]\ttraining's rmse: 0.711586\tvalid_1's rmse: 0.76571\n",
      "[660]\ttraining's rmse: 0.711026\tvalid_1's rmse: 0.765585\n",
      "[670]\ttraining's rmse: 0.710576\tvalid_1's rmse: 0.765539\n",
      "[680]\ttraining's rmse: 0.710067\tvalid_1's rmse: 0.765467\n",
      "[690]\ttraining's rmse: 0.709561\tvalid_1's rmse: 0.76537\n",
      "[700]\ttraining's rmse: 0.709081\tvalid_1's rmse: 0.765304\n",
      "[710]\ttraining's rmse: 0.708604\tvalid_1's rmse: 0.765151\n",
      "[720]\ttraining's rmse: 0.708212\tvalid_1's rmse: 0.76504\n",
      "[730]\ttraining's rmse: 0.7075\tvalid_1's rmse: 0.764815\n",
      "[740]\ttraining's rmse: 0.707071\tvalid_1's rmse: 0.764755\n",
      "[750]\ttraining's rmse: 0.706526\tvalid_1's rmse: 0.764665\n",
      "[760]\ttraining's rmse: 0.70612\tvalid_1's rmse: 0.764595\n",
      "[770]\ttraining's rmse: 0.705719\tvalid_1's rmse: 0.764538\n",
      "[780]\ttraining's rmse: 0.70518\tvalid_1's rmse: 0.764428\n",
      "[790]\ttraining's rmse: 0.704787\tvalid_1's rmse: 0.764336\n",
      "[800]\ttraining's rmse: 0.704231\tvalid_1's rmse: 0.764218\n",
      "[810]\ttraining's rmse: 0.703888\tvalid_1's rmse: 0.764196\n",
      "[820]\ttraining's rmse: 0.703475\tvalid_1's rmse: 0.764116\n",
      "[830]\ttraining's rmse: 0.703084\tvalid_1's rmse: 0.764037\n",
      "[840]\ttraining's rmse: 0.702665\tvalid_1's rmse: 0.763998\n",
      "[850]\ttraining's rmse: 0.702142\tvalid_1's rmse: 0.763821\n",
      "[860]\ttraining's rmse: 0.701586\tvalid_1's rmse: 0.763697\n",
      "[870]\ttraining's rmse: 0.70118\tvalid_1's rmse: 0.763646\n",
      "[880]\ttraining's rmse: 0.700718\tvalid_1's rmse: 0.763624\n",
      "[890]\ttraining's rmse: 0.700163\tvalid_1's rmse: 0.763492\n",
      "[900]\ttraining's rmse: 0.699747\tvalid_1's rmse: 0.763402\n",
      "[910]\ttraining's rmse: 0.699376\tvalid_1's rmse: 0.763356\n",
      "[920]\ttraining's rmse: 0.699006\tvalid_1's rmse: 0.763348\n",
      "[930]\ttraining's rmse: 0.698642\tvalid_1's rmse: 0.763306\n",
      "[940]\ttraining's rmse: 0.698116\tvalid_1's rmse: 0.763207\n",
      "[950]\ttraining's rmse: 0.697678\tvalid_1's rmse: 0.763131\n",
      "[960]\ttraining's rmse: 0.697227\tvalid_1's rmse: 0.763058\n",
      "[970]\ttraining's rmse: 0.696705\tvalid_1's rmse: 0.762975\n",
      "[980]\ttraining's rmse: 0.696178\tvalid_1's rmse: 0.762807\n",
      "[990]\ttraining's rmse: 0.695806\tvalid_1's rmse: 0.762739\n",
      "[1000]\ttraining's rmse: 0.695413\tvalid_1's rmse: 0.762672\n",
      "Did not meet early stopping. Best iteration is:\n",
      "[1000]\ttraining's rmse: 0.695413\tvalid_1's rmse: 0.762672\n"
     ]
    }
   ],
   "source": [
    "train_X, valid_X, train_y, valid_y = train_test_split(x, np.log1p(y), test_size = 0.15, random_state = 80) \n",
    "d_train = lgb.Dataset(train_X, label=train_y)\n",
    "d_valid = lgb.Dataset(valid_X, label=valid_y)\n",
    "watchlist = [d_train, d_valid]\n",
    "params = {\n",
    "        'learning_rate': 0.1,\n",
    "        'application': 'regression',\n",
    "        'max_depth': 12,\n",
    "        'num_leaves': 140,\n",
    "        'verbosity': -1,\n",
    "        'metric': 'RMSE',\n",
    "        'data_random_seed': 1,\n",
    "        'bagging_fraction': 1,\n",
    "        'nthread': 4\n",
    "}\n",
    "model = lgb.train(params, train_set=d_train, num_boost_round=1000, valid_sets=watchlist, \\\n",
    "    early_stopping_rounds=500, verbose_eval=10) "
   ]
  },
  {
   "cell_type": "code",
   "execution_count": 31,
   "metadata": {},
   "outputs": [
    {
     "name": "stderr",
     "output_type": "stream",
     "text": [
      "c:\\users\\diaschen\\appdata\\local\\continuum\\anaconda\\envs\\fastai\\lib\\site-packages\\lightgbm\\basic.py:447: UserWarning: Converting data to scipy sparse matrix.\n",
      "  warnings.warn('Converting data to scipy sparse matrix.')\n"
     ]
    }
   ],
   "source": [
    "predL = model.predict(x_test)"
   ]
  },
  {
   "cell_type": "code",
   "execution_count": 32,
   "metadata": {},
   "outputs": [],
   "source": [
    "x1 = hstack((tr_qid, tr_subr, train_d))"
   ]
  },
  {
   "cell_type": "code",
   "execution_count": 33,
   "metadata": {},
   "outputs": [],
   "source": [
    "x1_test = hstack((te_qid, te_subr, test_d))"
   ]
  },
  {
   "cell_type": "code",
   "execution_count": 35,
   "metadata": {},
   "outputs": [
    {
     "name": "stdout",
     "output_type": "stream",
     "text": [
      "Training until validation scores don't improve for 500 rounds.\n",
      "[200]\ttraining's rmse: 0.809765\tvalid_1's rmse: 0.818193\n",
      "[400]\ttraining's rmse: 0.787835\tvalid_1's rmse: 0.799267\n",
      "[600]\ttraining's rmse: 0.780837\tvalid_1's rmse: 0.79385\n",
      "[800]\ttraining's rmse: 0.778475\tvalid_1's rmse: 0.792038\n",
      "[1000]\ttraining's rmse: 0.776672\tvalid_1's rmse: 0.790693\n",
      "[1200]\ttraining's rmse: 0.775109\tvalid_1's rmse: 0.789618\n",
      "[1400]\ttraining's rmse: 0.773654\tvalid_1's rmse: 0.788607\n",
      "[1600]\ttraining's rmse: 0.772574\tvalid_1's rmse: 0.787847\n",
      "[1800]\ttraining's rmse: 0.771484\tvalid_1's rmse: 0.787067\n",
      "[2000]\ttraining's rmse: 0.770447\tvalid_1's rmse: 0.786322\n",
      "[2200]\ttraining's rmse: 0.769554\tvalid_1's rmse: 0.785714\n",
      "[2400]\ttraining's rmse: 0.768614\tvalid_1's rmse: 0.785007\n",
      "[2600]\ttraining's rmse: 0.767752\tvalid_1's rmse: 0.784394\n"
     ]
    },
    {
     "ename": "KeyboardInterrupt",
     "evalue": "",
     "output_type": "error",
     "traceback": [
      "\u001b[1;31m---------------------------------------------------------------------------\u001b[0m",
      "\u001b[1;31mKeyboardInterrupt\u001b[0m                         Traceback (most recent call last)",
      "\u001b[1;32m<ipython-input-35-5f3a5b94020c>\u001b[0m in \u001b[0;36m<module>\u001b[1;34m()\u001b[0m\n\u001b[0;32m     14\u001b[0m         \u001b[1;34m'nthread'\u001b[0m\u001b[1;33m:\u001b[0m \u001b[1;36m4\u001b[0m\u001b[1;33m\u001b[0m\u001b[0m\n\u001b[0;32m     15\u001b[0m }\n\u001b[1;32m---> 16\u001b[1;33m \u001b[0mmodel1\u001b[0m \u001b[1;33m=\u001b[0m \u001b[0mlgb\u001b[0m\u001b[1;33m.\u001b[0m\u001b[0mtrain\u001b[0m\u001b[1;33m(\u001b[0m\u001b[0mparams\u001b[0m\u001b[1;33m,\u001b[0m \u001b[0mtrain_set\u001b[0m\u001b[1;33m=\u001b[0m\u001b[0md_train\u001b[0m\u001b[1;33m,\u001b[0m \u001b[0mnum_boost_round\u001b[0m\u001b[1;33m=\u001b[0m\u001b[1;36m10000\u001b[0m\u001b[1;33m,\u001b[0m \u001b[0mvalid_sets\u001b[0m\u001b[1;33m=\u001b[0m\u001b[0mwatchlist\u001b[0m\u001b[1;33m,\u001b[0m     \u001b[0mearly_stopping_rounds\u001b[0m\u001b[1;33m=\u001b[0m\u001b[1;36m500\u001b[0m\u001b[1;33m,\u001b[0m \u001b[0mverbose_eval\u001b[0m\u001b[1;33m=\u001b[0m\u001b[1;36m200\u001b[0m\u001b[1;33m)\u001b[0m\u001b[1;33m\u001b[0m\u001b[0m\n\u001b[0m",
      "\u001b[1;32mc:\\users\\diaschen\\appdata\\local\\continuum\\anaconda\\envs\\fastai\\lib\\site-packages\\lightgbm\\engine.py\u001b[0m in \u001b[0;36mtrain\u001b[1;34m(params, train_set, num_boost_round, valid_sets, valid_names, fobj, feval, init_model, feature_name, categorical_feature, early_stopping_rounds, evals_result, verbose_eval, learning_rates, keep_training_booster, callbacks)\u001b[0m\n\u001b[0;32m    199\u001b[0m                                     evaluation_result_list=None))\n\u001b[0;32m    200\u001b[0m \u001b[1;33m\u001b[0m\u001b[0m\n\u001b[1;32m--> 201\u001b[1;33m         \u001b[0mbooster\u001b[0m\u001b[1;33m.\u001b[0m\u001b[0mupdate\u001b[0m\u001b[1;33m(\u001b[0m\u001b[0mfobj\u001b[0m\u001b[1;33m=\u001b[0m\u001b[0mfobj\u001b[0m\u001b[1;33m)\u001b[0m\u001b[1;33m\u001b[0m\u001b[0m\n\u001b[0m\u001b[0;32m    202\u001b[0m \u001b[1;33m\u001b[0m\u001b[0m\n\u001b[0;32m    203\u001b[0m         \u001b[0mevaluation_result_list\u001b[0m \u001b[1;33m=\u001b[0m \u001b[1;33m[\u001b[0m\u001b[1;33m]\u001b[0m\u001b[1;33m\u001b[0m\u001b[0m\n",
      "\u001b[1;32mc:\\users\\diaschen\\appdata\\local\\continuum\\anaconda\\envs\\fastai\\lib\\site-packages\\lightgbm\\basic.py\u001b[0m in \u001b[0;36mupdate\u001b[1;34m(self, train_set, fobj)\u001b[0m\n\u001b[0;32m   1519\u001b[0m             _safe_call(_LIB.LGBM_BoosterUpdateOneIter(\n\u001b[0;32m   1520\u001b[0m                 \u001b[0mself\u001b[0m\u001b[1;33m.\u001b[0m\u001b[0mhandle\u001b[0m\u001b[1;33m,\u001b[0m\u001b[1;33m\u001b[0m\u001b[0m\n\u001b[1;32m-> 1521\u001b[1;33m                 ctypes.byref(is_finished)))\n\u001b[0m\u001b[0;32m   1522\u001b[0m             \u001b[0mself\u001b[0m\u001b[1;33m.\u001b[0m\u001b[0m__is_predicted_cur_iter\u001b[0m \u001b[1;33m=\u001b[0m \u001b[1;33m[\u001b[0m\u001b[1;32mFalse\u001b[0m \u001b[1;32mfor\u001b[0m \u001b[0m_\u001b[0m \u001b[1;32min\u001b[0m \u001b[0mrange_\u001b[0m\u001b[1;33m(\u001b[0m\u001b[0mself\u001b[0m\u001b[1;33m.\u001b[0m\u001b[0m__num_dataset\u001b[0m\u001b[1;33m)\u001b[0m\u001b[1;33m]\u001b[0m\u001b[1;33m\u001b[0m\u001b[0m\n\u001b[0;32m   1523\u001b[0m             \u001b[1;32mreturn\u001b[0m \u001b[0mis_finished\u001b[0m\u001b[1;33m.\u001b[0m\u001b[0mvalue\u001b[0m \u001b[1;33m==\u001b[0m \u001b[1;36m1\u001b[0m\u001b[1;33m\u001b[0m\u001b[0m\n",
      "\u001b[1;31mKeyboardInterrupt\u001b[0m: "
     ]
    }
   ],
   "source": [
    "train_X, valid_X, train_y, valid_y = train_test_split(x1, np.log1p(y), test_size = 0.15, random_state = 80) \n",
    "d_train = lgb.Dataset(train_X, label=train_y)\n",
    "d_valid = lgb.Dataset(valid_X, label=valid_y)\n",
    "watchlist = [d_train, d_valid]\n",
    "params = {\n",
    "        'learning_rate': 0.01,\n",
    "        'application': 'regression',\n",
    "        'max_depth': 12,\n",
    "        'num_leaves': 140,\n",
    "        'verbosity': -1,\n",
    "        'metric': 'RMSE',\n",
    "        'data_random_seed': 1,\n",
    "        'bagging_fraction': 1,\n",
    "        'nthread': 4\n",
    "}\n",
    "model1 = lgb.train(params, train_set=d_train, num_boost_round=10000, valid_sets=watchlist, \\\n",
    "    early_stopping_rounds=500, verbose_eval=200) "
   ]
  },
  {
   "cell_type": "code",
   "execution_count": null,
   "metadata": {},
   "outputs": [],
   "source": []
  },
  {
   "cell_type": "code",
   "execution_count": 226,
   "metadata": {},
   "outputs": [
    {
     "data": {
      "text/plain": [
       "array([1.66036, 3.15181, 1.70944, ..., 1.95747, 2.43298, 1.78726])"
      ]
     },
     "execution_count": 226,
     "metadata": {},
     "output_type": "execute_result"
    }
   ],
   "source": [
    "predL"
   ]
  },
  {
   "cell_type": "code",
   "execution_count": 227,
   "metadata": {},
   "outputs": [],
   "source": [
    "s = pd.read_csv('sample_submission.csv')"
   ]
  },
  {
   "cell_type": "code",
   "execution_count": 228,
   "metadata": {},
   "outputs": [],
   "source": [
    "s.answer_score = np.expm1(predL)"
   ]
  },
  {
   "cell_type": "code",
   "execution_count": 229,
   "metadata": {},
   "outputs": [],
   "source": [
    "s.to_csv('secondlgb.csv', index=False)"
   ]
  },
  {
   "cell_type": "code",
   "execution_count": 230,
   "metadata": {},
   "outputs": [
    {
     "data": {
      "image/png": "[encoded data removed]",
      "text/plain": [
       "<Figure size 432x288 with 1 Axes>"
      ]
     },
     "metadata": {},
     "output_type": "display_data"
    }
   ],
   "source": [
    "ax = lgb.plot_importance(model, max_num_features=10)\n",
    "plt.show()"
   ]
  },
  {
   "cell_type": "code",
   "execution_count": null,
   "metadata": {},
   "outputs": [],
   "source": []
  }
 ],
 "metadata": {
  "kernelspec": {
   "display_name": "Python 3",
   "language": "python",
   "name": "python3"
  },
  "language_info": {
   "codemirror_mode": {
    "name": "ipython",
    "version": 3
   },
   "file_extension": ".py",
   "mimetype": "text/x-python",
   "name": "python",
   "nbconvert_exporter": "python",
   "pygments_lexer": "ipython3",
   "version": "3.6.5"
  }
 },
 "nbformat": 4,
 "nbformat_minor": 2
}
