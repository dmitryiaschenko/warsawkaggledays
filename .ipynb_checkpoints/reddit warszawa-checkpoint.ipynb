{
 "cells": [
  {
   "cell_type": "code",
   "execution_count": 141,
   "metadata": {},
   "outputs": [],
   "source": [
    "import pandas as pd\n",
    "import seaborn as sns\n",
    "%matplotlib inline\n",
    "import matplotlib.pyplot as plt\n",
    "from sklearn import preprocessing\n",
    "import numpy as np\n",
    "from sklearn.preprocessing import LabelEncoder\n",
    "pd.options.display.float_format = '{:.8f}'.format\n",
    "import os, sys\n",
    "from fastai.imports import *\n",
    "from fastai.structured import *\n",
    "from sklearn.feature_extraction.text import CountVectorizer, TfidfVectorizer\n",
    "from sklearn.preprocessing import LabelBinarizer\n",
    "from scipy.sparse import csr_matrix, hstack\n",
    "from sklearn.linear_model import LogisticRegression\n",
    "from sklearn.linear_model import Ridge\n",
    "from sklearn.model_selection import train_test_split\n",
    "import lightgbm as lgb\n",
    "from sklearn.base import BaseEstimator, TransformerMixin"
   ]
  },
  {
   "cell_type": "code",
   "execution_count": 142,
   "metadata": {},
   "outputs": [],
   "source": [
    "test = pd.read_csv('test.csv', error_bad_lines=False, sep='\\t')\n",
    "train = pd.read_csv('train.csv', error_bad_lines=False, sep='\\t')"
   ]
  },
  {
   "cell_type": "code",
   "execution_count": 143,
   "metadata": {},
   "outputs": [],
   "source": [
    "y = train.answer_score"
   ]
  },
  {
   "cell_type": "code",
   "execution_count": 144,
   "metadata": {},
   "outputs": [],
   "source": [
    "train = train.drop(['answer_score'], axis=1)"
   ]
  },
  {
   "cell_type": "code",
   "execution_count": 145,
   "metadata": {},
   "outputs": [
    {
     "data": {
      "text/plain": [
       "((852885, 8), (663082, 8))"
      ]
     },
     "execution_count": 145,
     "metadata": {},
     "output_type": "execute_result"
    }
   ],
   "source": [
    "train.shape, test.shape"
   ]
  },
  {
   "cell_type": "code",
   "execution_count": 65,
   "metadata": {},
   "outputs": [],
   "source": [
    "dates = ['question_utc', 'answer_utc']"
   ]
  },
  {
   "cell_type": "code",
   "execution_count": 146,
   "metadata": {},
   "outputs": [],
   "source": [
    "train['question_utc_transofrmed'] = pd.to_datetime(train['question_utc'],unit='s')\n",
    "train['answer_utc_transofrmed'] = pd.to_datetime(train['answer_utc'],unit='s')\n",
    "test['question_utc_transofrmed'] = pd.to_datetime(test['question_utc'],unit='s')\n",
    "test['answer_utc_transofrmed'] = pd.to_datetime(test['answer_utc'],unit='s')"
   ]
  },
  {
   "cell_type": "code",
   "execution_count": 147,
   "metadata": {},
   "outputs": [],
   "source": [
    "def add_dateparts(df, fldname, drop=True):\n",
    "    fld = df[fldname]\n",
    "    if not np.issubdtype(fld.dtype, np.datetime64):\n",
    "        df[fldname] = fld = pd.to_datetime(fld, infer_datetime_format=True)\n",
    "    targ_pre = re.sub('[Dd]ate$', '', fldname)\n",
    "    for n in ('Year', 'Month', 'Week', 'Day', 'Dayofweek', 'Dayofyear'):\n",
    "        df[targ_pre+n] = getattr(fld.dt,n.lower())\n",
    "    if drop: df.drop(fldname, axis=1, inplace=True)"
   ]
  },
  {
   "cell_type": "code",
   "execution_count": 148,
   "metadata": {},
   "outputs": [],
   "source": [
    "add_dateparts(train, 'answer_utc_transofrmed')\n",
    "add_dateparts(train, 'question_utc_transofrmed')\n",
    "add_dateparts(test, 'answer_utc_transofrmed')\n",
    "add_dateparts(test, 'question_utc_transofrmed')"
   ]
  },
  {
   "cell_type": "code",
   "execution_count": 149,
   "metadata": {},
   "outputs": [],
   "source": [
    "class FeatureEngineer(BaseEstimator, TransformerMixin):\n",
    "    def __init__(self):\n",
    "        super(FeatureEngineer, self).__init__()\n",
    "\n",
    "    def fit(self, data, *args, **kwargs):\n",
    "        return self\n",
    "\n",
    "    def transform(self, data, *args, **kwargs):\n",
    "        data['log_len'] = np.log(data[\"answer_text\"].apply(len))\n",
    "        \n",
    "        data[\"question_mark_count\"] = [s.count(\"?\") for s in data[\"answer_text\"].values]\n",
    "        data[\"question_mark_present\"] = (data[\"question_mark_count\"] > 0).astype(int)\n",
    "        \n",
    "        data[\"exclamation_mark_count\"] = [s.count(\"!\") for s in data[\"answer_text\"].values]\n",
    "        data[\"exclamation_mark_present\"] = (data[\"exclamation_mark_count\"] > 0).astype(int)\n",
    "        \n",
    "        data[\"log_question_score\"] = np.log(data[\"question_score\"] + 1)\n",
    "        \n",
    "        def count_capitalized(text):\n",
    "            return sum(1 for c in text if c.isupper())\n",
    "\n",
    "        data[\"ratio_capitalized\"] = data[\"answer_text\"].apply(count_capitalized) / data[\"answer_text\"].apply(len)\n",
    "        \n",
    "        return data"
   ]
  },
  {
   "cell_type": "code",
   "execution_count": 150,
   "metadata": {},
   "outputs": [],
   "source": [
    "featureEngineer = FeatureEngineer()\n",
    "train = featureEngineer.transform(train)"
   ]
  },
  {
   "cell_type": "code",
   "execution_count": 151,
   "metadata": {},
   "outputs": [],
   "source": [
    "test = featureEngineer.transform(test)"
   ]
  },
  {
   "cell_type": "code",
   "execution_count": 152,
   "metadata": {},
   "outputs": [
    {
     "data": {
      "text/plain": [
       "((852885, 27), (663082, 27))"
      ]
     },
     "execution_count": 152,
     "metadata": {},
     "output_type": "execute_result"
    }
   ],
   "source": [
    "train.shape, test.shape"
   ]
  },
  {
   "cell_type": "code",
   "execution_count": 153,
   "metadata": {},
   "outputs": [],
   "source": [
    "concat_text = pd.concat([train.answer_text, test.answer_text, train.question_text, test.question_text])"
   ]
  },
  {
   "cell_type": "code",
   "execution_count": 154,
   "metadata": {},
   "outputs": [],
   "source": [
    "tv = TfidfVectorizer(sublinear_tf=True, strip_accents='unicode', \n",
    "                     analyzer='word', token_pattern=r'\\w{1,}', \n",
    "                     ngram_range=(1, 1), stop_words='english', max_features=None)"
   ]
  },
  {
   "cell_type": "code",
   "execution_count": 18,
   "metadata": {},
   "outputs": [],
   "source": [
    "ctv = TfidfVectorizer(ngram_range=(1,5), \n",
    "                      strip_accents='unicode', \n",
    "                      use_idf=1, \n",
    "                      smooth_idf=1, \n",
    "                      sublinear_tf=1, \n",
    "                      analyzer='char', \n",
    "                      max_features=30000)"
   ]
  },
  {
   "cell_type": "code",
   "execution_count": null,
   "metadata": {},
   "outputs": [],
   "source": [
    "tv.fit(concat_text)"
   ]
  },
  {
   "cell_type": "code",
   "execution_count": null,
   "metadata": {},
   "outputs": [],
   "source": [
    "ctv.fit(concat_text)"
   ]
  },
  {
   "cell_type": "code",
   "execution_count": null,
   "metadata": {},
   "outputs": [],
   "source": [
    "train_text_question_features = tv.transform(train.question_text)\n",
    "train_text_answer_features = tv.transform(train.answer_text)\n",
    "test_text_question_features = tv.transform(test.question_text)\n",
    "test_text_answer_features = tv.transform(test.answer_text)"
   ]
  },
  {
   "cell_type": "code",
   "execution_count": null,
   "metadata": {},
   "outputs": [],
   "source": [
    "train_text_char_question_features = ctv.transform(train.question_text)\n",
    "train_text_char_answer_features = ctv.transform(train.answer_text)\n",
    "test_text_char_question_features = ctv.transform(test.question_text)\n",
    "test_text_char_answer_features = ctv.transform(test.answer_text)"
   ]
  },
  {
   "cell_type": "code",
   "execution_count": null,
   "metadata": {},
   "outputs": [],
   "source": [
    "lb = LabelBinarizer(sparse_output=True)"
   ]
  },
  {
   "cell_type": "code",
   "execution_count": null,
   "metadata": {},
   "outputs": [],
   "source": [
    "cv = CountVectorizer()"
   ]
  },
  {
   "cell_type": "code",
   "execution_count": null,
   "metadata": {},
   "outputs": [],
   "source": [
    "le = LabelEncoder()"
   ]
  },
  {
   "cell_type": "code",
   "execution_count": null,
   "metadata": {},
   "outputs": [],
   "source": [
    "qid = pd.concat([train.question_id, test.question_id])\n",
    "subr = pd.concat([train.subreddit, test.subreddit])"
   ]
  },
  {
   "cell_type": "code",
   "execution_count": 118,
   "metadata": {},
   "outputs": [],
   "source": [
    "cv.fit(qid)\n",
    "tr_qid = cv.transform(train.question_id)\n",
    "te_qid = cv.transform(test.question_id)"
   ]
  },
  {
   "cell_type": "code",
   "execution_count": 119,
   "metadata": {},
   "outputs": [],
   "source": [
    "lb.fit(subr)\n",
    "tr_subr = lb.transform(train.subreddit)\n",
    "te_subr = lb.transform(test.subreddit)"
   ]
  },
  {
   "cell_type": "code",
   "execution_count": 120,
   "metadata": {},
   "outputs": [
    {
     "data": {
      "text/plain": [
       "((852885, 23), (663082, 23))"
      ]
     },
     "execution_count": 120,
     "metadata": {},
     "output_type": "execute_result"
    }
   ],
   "source": [
    "train_d = train.drop(['question_text', 'answer_text', 'question_id', 'subreddit'],axis=1)\n",
    "test_d = test.drop(['question_text', 'answer_text', 'question_id', 'subreddit'], axis=1)\n",
    "train_d.shape, test_d.shape"
   ]
  },
  {
   "cell_type": "code",
   "execution_count": 121,
   "metadata": {},
   "outputs": [
    {
     "data": {
      "text/html": [
       "<div>\n",
       "<style scoped>\n",
       "    .dataframe tbody tr th:only-of-type {\n",
       "        vertical-align: middle;\n",
       "    }\n",
       "\n",
       "    .dataframe tbody tr th {\n",
       "        vertical-align: top;\n",
       "    }\n",
       "\n",
       "    .dataframe thead th {\n",
       "        text-align: right;\n",
       "    }\n",
       "</style>\n",
       "<table border=\"1\" class=\"dataframe\">\n",
       "  <thead>\n",
       "    <tr style=\"text-align: right;\">\n",
       "      <th></th>\n",
       "      <th>id</th>\n",
       "      <th>question_utc</th>\n",
       "      <th>question_score</th>\n",
       "      <th>answer_utc</th>\n",
       "      <th>answer_utc_transofrmedYear</th>\n",
       "      <th>answer_utc_transofrmedMonth</th>\n",
       "      <th>answer_utc_transofrmedWeek</th>\n",
       "      <th>answer_utc_transofrmedDay</th>\n",
       "      <th>answer_utc_transofrmedDayofweek</th>\n",
       "      <th>answer_utc_transofrmedDayofyear</th>\n",
       "      <th>...</th>\n",
       "      <th>question_utc_transofrmedDay</th>\n",
       "      <th>question_utc_transofrmedDayofweek</th>\n",
       "      <th>question_utc_transofrmedDayofyear</th>\n",
       "      <th>log_len</th>\n",
       "      <th>question_mark_count</th>\n",
       "      <th>question_mark_present</th>\n",
       "      <th>exclamation_mark_count</th>\n",
       "      <th>exclamation_mark_present</th>\n",
       "      <th>log_question_score</th>\n",
       "      <th>ratio_capitalized</th>\n",
       "    </tr>\n",
       "  </thead>\n",
       "  <tbody>\n",
       "    <tr>\n",
       "      <th>0</th>\n",
       "      <td>330435</td>\n",
       "      <td>1512086400</td>\n",
       "      <td>179</td>\n",
       "      <td>1512086616</td>\n",
       "      <td>2017</td>\n",
       "      <td>12</td>\n",
       "      <td>48</td>\n",
       "      <td>1</td>\n",
       "      <td>4</td>\n",
       "      <td>335</td>\n",
       "      <td>...</td>\n",
       "      <td>1</td>\n",
       "      <td>4</td>\n",
       "      <td>335</td>\n",
       "      <td>4.07753744</td>\n",
       "      <td>0</td>\n",
       "      <td>0</td>\n",
       "      <td>0</td>\n",
       "      <td>0</td>\n",
       "      <td>5.19295685</td>\n",
       "      <td>0.03389831</td>\n",
       "    </tr>\n",
       "    <tr>\n",
       "      <th>1</th>\n",
       "      <td>1944975</td>\n",
       "      <td>1512086400</td>\n",
       "      <td>179</td>\n",
       "      <td>1512090694</td>\n",
       "      <td>2017</td>\n",
       "      <td>12</td>\n",
       "      <td>48</td>\n",
       "      <td>1</td>\n",
       "      <td>4</td>\n",
       "      <td>335</td>\n",
       "      <td>...</td>\n",
       "      <td>1</td>\n",
       "      <td>4</td>\n",
       "      <td>335</td>\n",
       "      <td>4.31748811</td>\n",
       "      <td>0</td>\n",
       "      <td>0</td>\n",
       "      <td>0</td>\n",
       "      <td>0</td>\n",
       "      <td>5.19295685</td>\n",
       "      <td>0.02666667</td>\n",
       "    </tr>\n",
       "    <tr>\n",
       "      <th>2</th>\n",
       "      <td>2218735</td>\n",
       "      <td>1512086400</td>\n",
       "      <td>179</td>\n",
       "      <td>1512090763</td>\n",
       "      <td>2017</td>\n",
       "      <td>12</td>\n",
       "      <td>48</td>\n",
       "      <td>1</td>\n",
       "      <td>4</td>\n",
       "      <td>335</td>\n",
       "      <td>...</td>\n",
       "      <td>1</td>\n",
       "      <td>4</td>\n",
       "      <td>335</td>\n",
       "      <td>3.95124372</td>\n",
       "      <td>1</td>\n",
       "      <td>1</td>\n",
       "      <td>0</td>\n",
       "      <td>0</td>\n",
       "      <td>5.19295685</td>\n",
       "      <td>0.05769231</td>\n",
       "    </tr>\n",
       "    <tr>\n",
       "      <th>3</th>\n",
       "      <td>2133251</td>\n",
       "      <td>1512086400</td>\n",
       "      <td>179</td>\n",
       "      <td>1512091349</td>\n",
       "      <td>2017</td>\n",
       "      <td>12</td>\n",
       "      <td>48</td>\n",
       "      <td>1</td>\n",
       "      <td>4</td>\n",
       "      <td>335</td>\n",
       "      <td>...</td>\n",
       "      <td>1</td>\n",
       "      <td>4</td>\n",
       "      <td>335</td>\n",
       "      <td>4.35670883</td>\n",
       "      <td>0</td>\n",
       "      <td>0</td>\n",
       "      <td>0</td>\n",
       "      <td>0</td>\n",
       "      <td>5.19295685</td>\n",
       "      <td>0.02564103</td>\n",
       "    </tr>\n",
       "    <tr>\n",
       "      <th>4</th>\n",
       "      <td>2133252</td>\n",
       "      <td>1512086400</td>\n",
       "      <td>179</td>\n",
       "      <td>1512133012</td>\n",
       "      <td>2017</td>\n",
       "      <td>12</td>\n",
       "      <td>48</td>\n",
       "      <td>1</td>\n",
       "      <td>4</td>\n",
       "      <td>335</td>\n",
       "      <td>...</td>\n",
       "      <td>1</td>\n",
       "      <td>4</td>\n",
       "      <td>335</td>\n",
       "      <td>5.07517382</td>\n",
       "      <td>0</td>\n",
       "      <td>0</td>\n",
       "      <td>0</td>\n",
       "      <td>0</td>\n",
       "      <td>5.19295685</td>\n",
       "      <td>0.08750000</td>\n",
       "    </tr>\n",
       "  </tbody>\n",
       "</table>\n",
       "<p>5 rows × 23 columns</p>\n",
       "</div>"
      ],
      "text/plain": [
       "        id  question_utc  question_score  answer_utc  \\\n",
       "0   330435    1512086400             179  1512086616   \n",
       "1  1944975    1512086400             179  1512090694   \n",
       "2  2218735    1512086400             179  1512090763   \n",
       "3  2133251    1512086400             179  1512091349   \n",
       "4  2133252    1512086400             179  1512133012   \n",
       "\n",
       "   answer_utc_transofrmedYear  answer_utc_transofrmedMonth  \\\n",
       "0                        2017                           12   \n",
       "1                        2017                           12   \n",
       "2                        2017                           12   \n",
       "3                        2017                           12   \n",
       "4                        2017                           12   \n",
       "\n",
       "   answer_utc_transofrmedWeek  answer_utc_transofrmedDay  \\\n",
       "0                          48                          1   \n",
       "1                          48                          1   \n",
       "2                          48                          1   \n",
       "3                          48                          1   \n",
       "4                          48                          1   \n",
       "\n",
       "   answer_utc_transofrmedDayofweek  answer_utc_transofrmedDayofyear  \\\n",
       "0                                4                              335   \n",
       "1                                4                              335   \n",
       "2                                4                              335   \n",
       "3                                4                              335   \n",
       "4                                4                              335   \n",
       "\n",
       "         ...          question_utc_transofrmedDay  \\\n",
       "0        ...                                    1   \n",
       "1        ...                                    1   \n",
       "2        ...                                    1   \n",
       "3        ...                                    1   \n",
       "4        ...                                    1   \n",
       "\n",
       "   question_utc_transofrmedDayofweek  question_utc_transofrmedDayofyear  \\\n",
       "0                                  4                                335   \n",
       "1                                  4                                335   \n",
       "2                                  4                                335   \n",
       "3                                  4                                335   \n",
       "4                                  4                                335   \n",
       "\n",
       "     log_len  question_mark_count  question_mark_present  \\\n",
       "0 4.07753744                    0                      0   \n",
       "1 4.31748811                    0                      0   \n",
       "2 3.95124372                    1                      1   \n",
       "3 4.35670883                    0                      0   \n",
       "4 5.07517382                    0                      0   \n",
       "\n",
       "   exclamation_mark_count  exclamation_mark_present  log_question_score  \\\n",
       "0                       0                         0          5.19295685   \n",
       "1                       0                         0          5.19295685   \n",
       "2                       0                         0          5.19295685   \n",
       "3                       0                         0          5.19295685   \n",
       "4                       0                         0          5.19295685   \n",
       "\n",
       "   ratio_capitalized  \n",
       "0         0.03389831  \n",
       "1         0.02666667  \n",
       "2         0.05769231  \n",
       "3         0.02564103  \n",
       "4         0.08750000  \n",
       "\n",
       "[5 rows x 23 columns]"
      ]
     },
     "execution_count": 121,
     "metadata": {},
     "output_type": "execute_result"
    }
   ],
   "source": [
    "train_d.head()"
   ]
  },
  {
   "cell_type": "code",
   "execution_count": 122,
   "metadata": {},
   "outputs": [],
   "source": [
    "x = hstack((train_text_question_features, train_text_answer_features, tr_qid, tr_subr, train_d))"
   ]
  },
  {
   "cell_type": "code",
   "execution_count": 123,
   "metadata": {},
   "outputs": [],
   "source": [
    "x_test = hstack((test_text_question_features, test_text_answer_features, te_qid, te_subr, test_d))"
   ]
  },
  {
   "cell_type": "code",
   "execution_count": 129,
   "metadata": {
    "scrolled": true
   },
   "outputs": [
    {
     "name": "stdout",
     "output_type": "stream",
     "text": [
      "Training until validation scores don't improve for 500 rounds.\n",
      "[10]\ttraining's rmse: 0.957665\tvalid_1's rmse: 0.967544\n",
      "[20]\ttraining's rmse: 0.910366\tvalid_1's rmse: 0.922738\n",
      "[30]\ttraining's rmse: 0.881482\tvalid_1's rmse: 0.896262\n",
      "[40]\ttraining's rmse: 0.860985\tvalid_1's rmse: 0.878245\n",
      "[50]\ttraining's rmse: 0.846727\tvalid_1's rmse: 0.866006\n",
      "[60]\ttraining's rmse: 0.83014\tvalid_1's rmse: 0.85121\n",
      "[70]\ttraining's rmse: 0.818812\tvalid_1's rmse: 0.841689\n",
      "[80]\ttraining's rmse: 0.812014\tvalid_1's rmse: 0.83672\n",
      "[90]\ttraining's rmse: 0.806265\tvalid_1's rmse: 0.832562\n",
      "[100]\ttraining's rmse: 0.802969\tvalid_1's rmse: 0.830617\n",
      "[110]\ttraining's rmse: 0.797008\tvalid_1's rmse: 0.826022\n",
      "[120]\ttraining's rmse: 0.794064\tvalid_1's rmse: 0.824379\n",
      "[130]\ttraining's rmse: 0.791676\tvalid_1's rmse: 0.823164\n",
      "[140]\ttraining's rmse: 0.788808\tvalid_1's rmse: 0.821549\n",
      "[150]\ttraining's rmse: 0.78601\tvalid_1's rmse: 0.819713\n",
      "[160]\ttraining's rmse: 0.784963\tvalid_1's rmse: 0.81937\n",
      "[170]\ttraining's rmse: 0.78021\tvalid_1's rmse: 0.815609\n",
      "[180]\ttraining's rmse: 0.77849\tvalid_1's rmse: 0.814901\n",
      "[190]\ttraining's rmse: 0.77629\tvalid_1's rmse: 0.813459\n",
      "[200]\ttraining's rmse: 0.773703\tvalid_1's rmse: 0.811732\n",
      "[210]\ttraining's rmse: 0.772782\tvalid_1's rmse: 0.811473\n",
      "[220]\ttraining's rmse: 0.770352\tvalid_1's rmse: 0.809917\n",
      "[230]\ttraining's rmse: 0.769063\tvalid_1's rmse: 0.80922\n",
      "[240]\ttraining's rmse: 0.767889\tvalid_1's rmse: 0.808676\n",
      "[250]\ttraining's rmse: 0.767078\tvalid_1's rmse: 0.80841\n",
      "[260]\ttraining's rmse: 0.766325\tvalid_1's rmse: 0.808269\n",
      "[270]\ttraining's rmse: 0.765541\tvalid_1's rmse: 0.808047\n",
      "[280]\ttraining's rmse: 0.764863\tvalid_1's rmse: 0.807916\n",
      "[290]\ttraining's rmse: 0.764144\tvalid_1's rmse: 0.807804\n",
      "[300]\ttraining's rmse: 0.763412\tvalid_1's rmse: 0.807678\n",
      "[310]\ttraining's rmse: 0.762492\tvalid_1's rmse: 0.807378\n",
      "[320]\ttraining's rmse: 0.761832\tvalid_1's rmse: 0.807271\n",
      "[330]\ttraining's rmse: 0.761232\tvalid_1's rmse: 0.807165\n",
      "[340]\ttraining's rmse: 0.758076\tvalid_1's rmse: 0.805121\n",
      "[350]\ttraining's rmse: 0.757488\tvalid_1's rmse: 0.805022\n",
      "[360]\ttraining's rmse: 0.756867\tvalid_1's rmse: 0.804924\n",
      "[370]\ttraining's rmse: 0.75616\tvalid_1's rmse: 0.804799\n",
      "[380]\ttraining's rmse: 0.755356\tvalid_1's rmse: 0.804652\n",
      "[390]\ttraining's rmse: 0.754771\tvalid_1's rmse: 0.804598\n",
      "[400]\ttraining's rmse: 0.753717\tvalid_1's rmse: 0.803986\n",
      "[410]\ttraining's rmse: 0.752611\tvalid_1's rmse: 0.803523\n",
      "[420]\ttraining's rmse: 0.752104\tvalid_1's rmse: 0.803401\n",
      "[430]\ttraining's rmse: 0.751482\tvalid_1's rmse: 0.803315\n",
      "[440]\ttraining's rmse: 0.75098\tvalid_1's rmse: 0.803254\n",
      "[450]\ttraining's rmse: 0.750497\tvalid_1's rmse: 0.803174\n",
      "[460]\ttraining's rmse: 0.74964\tvalid_1's rmse: 0.80288\n",
      "[470]\ttraining's rmse: 0.748809\tvalid_1's rmse: 0.80268\n",
      "[480]\ttraining's rmse: 0.748181\tvalid_1's rmse: 0.802501\n",
      "[490]\ttraining's rmse: 0.747662\tvalid_1's rmse: 0.802416\n",
      "[500]\ttraining's rmse: 0.746959\tvalid_1's rmse: 0.802299\n",
      "[510]\ttraining's rmse: 0.746563\tvalid_1's rmse: 0.802248\n",
      "[520]\ttraining's rmse: 0.746116\tvalid_1's rmse: 0.802209\n",
      "[530]\ttraining's rmse: 0.7456\tvalid_1's rmse: 0.802166\n",
      "[540]\ttraining's rmse: 0.743796\tvalid_1's rmse: 0.801007\n",
      "[550]\ttraining's rmse: 0.743086\tvalid_1's rmse: 0.800844\n",
      "[560]\ttraining's rmse: 0.742527\tvalid_1's rmse: 0.800806\n",
      "[570]\ttraining's rmse: 0.742117\tvalid_1's rmse: 0.800752\n",
      "[580]\ttraining's rmse: 0.741581\tvalid_1's rmse: 0.800714\n",
      "[590]\ttraining's rmse: 0.741127\tvalid_1's rmse: 0.800661\n",
      "[600]\ttraining's rmse: 0.740692\tvalid_1's rmse: 0.800633\n",
      "[610]\ttraining's rmse: 0.740266\tvalid_1's rmse: 0.800562\n",
      "[620]\ttraining's rmse: 0.739817\tvalid_1's rmse: 0.800544\n",
      "[630]\ttraining's rmse: 0.739296\tvalid_1's rmse: 0.800504\n",
      "[640]\ttraining's rmse: 0.738151\tvalid_1's rmse: 0.799944\n",
      "[650]\ttraining's rmse: 0.737615\tvalid_1's rmse: 0.799846\n",
      "[660]\ttraining's rmse: 0.737133\tvalid_1's rmse: 0.799759\n",
      "[670]\ttraining's rmse: 0.736709\tvalid_1's rmse: 0.799713\n",
      "[680]\ttraining's rmse: 0.736266\tvalid_1's rmse: 0.799702\n",
      "[690]\ttraining's rmse: 0.735884\tvalid_1's rmse: 0.799678\n",
      "[700]\ttraining's rmse: 0.735379\tvalid_1's rmse: 0.799622\n",
      "[710]\ttraining's rmse: 0.734881\tvalid_1's rmse: 0.799505\n",
      "[720]\ttraining's rmse: 0.734495\tvalid_1's rmse: 0.79946\n",
      "[730]\ttraining's rmse: 0.734123\tvalid_1's rmse: 0.79944\n",
      "[740]\ttraining's rmse: 0.732708\tvalid_1's rmse: 0.798503\n",
      "[750]\ttraining's rmse: 0.732308\tvalid_1's rmse: 0.798481\n",
      "[760]\ttraining's rmse: 0.731546\tvalid_1's rmse: 0.798258\n",
      "[770]\ttraining's rmse: 0.731093\tvalid_1's rmse: 0.798225\n",
      "[780]\ttraining's rmse: 0.73067\tvalid_1's rmse: 0.798187\n",
      "[790]\ttraining's rmse: 0.73023\tvalid_1's rmse: 0.798137\n",
      "[800]\ttraining's rmse: 0.729755\tvalid_1's rmse: 0.798063\n",
      "[810]\ttraining's rmse: 0.729414\tvalid_1's rmse: 0.798018\n",
      "[820]\ttraining's rmse: 0.729026\tvalid_1's rmse: 0.797964\n",
      "[830]\ttraining's rmse: 0.72866\tvalid_1's rmse: 0.79793\n",
      "[840]\ttraining's rmse: 0.728167\tvalid_1's rmse: 0.797905\n",
      "[850]\ttraining's rmse: 0.727875\tvalid_1's rmse: 0.797877\n",
      "[860]\ttraining's rmse: 0.727387\tvalid_1's rmse: 0.797869\n",
      "[870]\ttraining's rmse: 0.726096\tvalid_1's rmse: 0.797007\n",
      "[880]\ttraining's rmse: 0.724793\tvalid_1's rmse: 0.796226\n",
      "[890]\ttraining's rmse: 0.724383\tvalid_1's rmse: 0.79619\n",
      "[900]\ttraining's rmse: 0.723985\tvalid_1's rmse: 0.79613\n",
      "[910]\ttraining's rmse: 0.723576\tvalid_1's rmse: 0.796082\n",
      "[920]\ttraining's rmse: 0.723276\tvalid_1's rmse: 0.796081\n",
      "[930]\ttraining's rmse: 0.722869\tvalid_1's rmse: 0.796035\n",
      "[940]\ttraining's rmse: 0.722353\tvalid_1's rmse: 0.795943\n",
      "[950]\ttraining's rmse: 0.722034\tvalid_1's rmse: 0.795927\n",
      "[960]\ttraining's rmse: 0.721668\tvalid_1's rmse: 0.79588\n",
      "[970]\ttraining's rmse: 0.721274\tvalid_1's rmse: 0.795856\n",
      "[980]\ttraining's rmse: 0.720899\tvalid_1's rmse: 0.795845\n",
      "[990]\ttraining's rmse: 0.720542\tvalid_1's rmse: 0.795818\n",
      "[1000]\ttraining's rmse: 0.720229\tvalid_1's rmse: 0.795831\n",
      "Did not meet early stopping. Best iteration is:\n",
      "[1000]\ttraining's rmse: 0.720229\tvalid_1's rmse: 0.795831\n"
     ]
    }
   ],
   "source": [
    "train_X, valid_X, train_y, valid_y = train_test_split(x, np.log1p(y), test_size = 0.15, random_state = 80) \n",
    "d_train = lgb.Dataset(train_X, label=train_y)\n",
    "d_valid = lgb.Dataset(valid_X, label=valid_y)\n",
    "watchlist = [d_train, d_valid]\n",
    "params = {\n",
    "        'learning_rate': 0.1,\n",
    "        'application': 'regression',\n",
    "        'max_depth': 12,\n",
    "        'num_leaves': 140,\n",
    "        'verbosity': -1,\n",
    "        'metric': 'RMSE',\n",
    "        'data_random_seed': 1,\n",
    "        'bagging_fraction': 1,\n",
    "        'nthread': 4\n",
    "}\n",
    "model = lgb.train(params, train_set=d_train, num_boost_round=1000, valid_sets=watchlist, \\\n",
    "    early_stopping_rounds=500, verbose_eval=10) "
   ]
  },
  {
   "cell_type": "code",
   "execution_count": 130,
   "metadata": {},
   "outputs": [
    {
     "name": "stderr",
     "output_type": "stream",
     "text": [
      "c:\\users\\diaschen\\appdata\\local\\continuum\\anaconda\\envs\\fastai\\lib\\site-packages\\lightgbm\\basic.py:447: UserWarning: Converting data to scipy sparse matrix.\n",
      "  warnings.warn('Converting data to scipy sparse matrix.')\n"
     ]
    }
   ],
   "source": [
    "predL = model.predict(x_test)"
   ]
  },
  {
   "cell_type": "code",
   "execution_count": 131,
   "metadata": {},
   "outputs": [
    {
     "data": {
      "text/plain": [
       "array([1.84154, 2.64343, 1.52248, ..., 2.0309 , 2.28066, 1.51473])"
      ]
     },
     "execution_count": 131,
     "metadata": {},
     "output_type": "execute_result"
    }
   ],
   "source": [
    "predL"
   ]
  },
  {
   "cell_type": "code",
   "execution_count": 132,
   "metadata": {},
   "outputs": [],
   "source": [
    "s = pd.read_csv('sample_submission.csv')"
   ]
  },
  {
   "cell_type": "code",
   "execution_count": 135,
   "metadata": {},
   "outputs": [],
   "source": [
    "s.answer_score = np.expm1(predL)"
   ]
  },
  {
   "cell_type": "code",
   "execution_count": 138,
   "metadata": {},
   "outputs": [],
   "source": [
    "s.to_csv('firstlgb.csv', index=False)"
   ]
  },
  {
   "cell_type": "code",
   "execution_count": 140,
   "metadata": {},
   "outputs": [
    {
     "data": {
      "image/png": "[encoded data removed]",
      "text/plain": [
       "<Figure size 432x288 with 1 Axes>"
      ]
     },
     "metadata": {},
     "output_type": "display_data"
    }
   ],
   "source": [
    "ax = lgb.plot_importance(model, max_num_features=10)\n",
    "plt.show()"
   ]
  },
  {
   "cell_type": "code",
   "execution_count": null,
   "metadata": {},
   "outputs": [],
   "source": []
  }
 ],
 "metadata": {
  "kernelspec": {
   "display_name": "Python 3",
   "language": "python",
   "name": "python3"
  },
  "language_info": {
   "codemirror_mode": {
    "name": "ipython",
    "version": 3
   },
   "file_extension": ".py",
   "mimetype": "text/x-python",
   "name": "python",
   "nbconvert_exporter": "python",
   "pygments_lexer": "ipython3",
   "version": "3.6.5"
  }
 },
 "nbformat": 4,
 "nbformat_minor": 2
}
